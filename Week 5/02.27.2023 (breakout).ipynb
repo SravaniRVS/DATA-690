{
 "cells": [
  {
   "cell_type": "markdown",
   "id": "9eb70e5a",
   "metadata": {},
   "source": [
    "# 02.27.2023 BREAKOUT SESSION EXERCISE"
   ]
  },
  {
   "cell_type": "markdown",
   "id": "747d5ada",
   "metadata": {},
   "source": [
    "Use the `mtcars` data to answer the following questions."
   ]
  },
  {
   "cell_type": "code",
   "execution_count": 1,
   "id": "9917a2ce",
   "metadata": {},
   "outputs": [],
   "source": [
    "# Import pandas using the usual alias\n",
    "import pandas as pd\n",
    "\n",
    "# Import mtcars data\n"
   ]
  },
  {
   "cell_type": "markdown",
   "id": "3199138c",
   "metadata": {},
   "source": [
    "### Problem 1\n",
    "<span  style=\"color:purple; font-size:16px\">Create a small DataFrame called `mt_reduced` containing only the `mpg_city`, `mpg_hwy`, `disp_per_cyl`, `horsepower`, `make`, `model` and `cyl` columns.</span>"
   ]
  },
  {
   "cell_type": "code",
   "execution_count": 2,
   "id": "0349f5c5",
   "metadata": {},
   "outputs": [],
   "source": [
    "# Answer\n"
   ]
  },
  {
   "cell_type": "markdown",
   "id": "ad267bdb",
   "metadata": {},
   "source": [
    "### Problem 2\n",
    "<span  style=\"color:purple; font-size:16px\">Use the `.iloc()` function to extract the first 8 rows and the first 3 columns from `mt_reduced`</span>"
   ]
  },
  {
   "cell_type": "code",
   "execution_count": 3,
   "id": "04777868",
   "metadata": {},
   "outputs": [],
   "source": [
    "# Answer\n"
   ]
  },
  {
   "cell_type": "markdown",
   "id": "af55b797",
   "metadata": {},
   "source": [
    "### Problem 3\n",
    "<span  style=\"color:purple; font-size:16px\">Use the `.loc()` function to extract the data for the *Tahoe LT* from `mt_reduced`. Hint: It is necessary to set the index to the `model`.</span>"
   ]
  },
  {
   "cell_type": "code",
   "execution_count": 4,
   "id": "d38344c9",
   "metadata": {},
   "outputs": [],
   "source": [
    "# Answer\n"
   ]
  },
  {
   "cell_type": "markdown",
   "id": "c8cb5f0f",
   "metadata": {},
   "source": [
    "### Problem 4\n",
    "<span  style=\"color:purple; font-size:16px\">Use the `.loc()` function to extract the data for the *Tahoe LT*, the *Kia Sorento LX* and the *Scion xB* from `mt_reduced`. **Hint: `model` and `make` are different columns.**</span>"
   ]
  },
  {
   "cell_type": "code",
   "execution_count": 5,
   "id": "0ee92395",
   "metadata": {},
   "outputs": [],
   "source": [
    "# Answer\n"
   ]
  },
  {
   "cell_type": "markdown",
   "id": "a93ebecd",
   "metadata": {},
   "source": [
    "### Problem 5\n",
    "<span  style=\"color:purple; font-size:16px\">Use the `.loc()` function to extract the `horsepower` and `mpg_hwy` variables for all cars from `mt_reduced`</span>"
   ]
  },
  {
   "cell_type": "code",
   "execution_count": 6,
   "id": "7665b9f3",
   "metadata": {},
   "outputs": [],
   "source": [
    "# Answer\n"
   ]
  },
  {
   "cell_type": "markdown",
   "id": "92f2c6db",
   "metadata": {},
   "source": [
    "### Problem 6\n",
    "<span  style=\"color:purple; font-size:16px\">Use a Boolean Mask to locate all cars in `mt_reduced` that have 4 cylinders. </span>"
   ]
  },
  {
   "cell_type": "code",
   "execution_count": 8,
   "id": "a691c685",
   "metadata": {},
   "outputs": [],
   "source": [
    "# Answer\n"
   ]
  },
  {
   "cell_type": "markdown",
   "id": "4d738cc7",
   "metadata": {},
   "source": [
    "### Problem 7\n",
    "<span  style=\"color:purple; font-size:16px\">Use a Boolean Mask to locate all cars in `mt_reduced` that have 4 cylinders and then use the `.shape` attribute of a DataFrame to determine the number of cars with 4 cylinders.</span>"
   ]
  },
  {
   "cell_type": "code",
   "execution_count": 9,
   "id": "beb88c57",
   "metadata": {},
   "outputs": [],
   "source": [
    "# Answer\n"
   ]
  },
  {
   "cell_type": "markdown",
   "id": "c57ca5a0",
   "metadata": {},
   "source": [
    "### Problem 8\n",
    "<span  style=\"color:purple; font-size:16px\">Use a Boolean Mask to locate all cars in `mt_reduced` that have 8 cylinders AND a `mpg_city` more than 25 MPG.</span>"
   ]
  },
  {
   "cell_type": "code",
   "execution_count": 10,
   "id": "9d2e944a",
   "metadata": {},
   "outputs": [],
   "source": [
    "# Answer\n"
   ]
  },
  {
   "cell_type": "markdown",
   "id": "345aa5cc",
   "metadata": {},
   "source": [
    "### Problem 9\n",
    "<span  style=\"color:purple; font-size:16px\">Use a Boolean Mask to locate all cars in `mt_reduced` that have 8 cylinders OR a `mpg_city` more than 25 MPG and save it to a variable called `mt_filtered` </span>"
   ]
  },
  {
   "cell_type": "code",
   "execution_count": 11,
   "id": "f26f571e",
   "metadata": {},
   "outputs": [],
   "source": [
    "# Answer\n"
   ]
  },
  {
   "cell_type": "markdown",
   "id": "f8cb5c45",
   "metadata": {},
   "source": [
    "### Problem 10\n",
    "<span  style=\"color:purple; font-size:16px\">Use the `.drop()` function to create `mt_reduced2` which is identical to `mt_reduced` but created by removing columns from `mtcars`. **Hint: using the `.columns` attribute can print out a list for you.**</span>"
   ]
  },
  {
   "cell_type": "code",
   "execution_count": 12,
   "id": "4a0698de",
   "metadata": {},
   "outputs": [],
   "source": [
    "# Answer\n"
   ]
  }
 ],
 "metadata": {
  "kernelspec": {
   "display_name": "Python 3",
   "language": "python",
   "name": "python3"
  },
  "language_info": {
   "codemirror_mode": {
    "name": "ipython",
    "version": 3
   },
   "file_extension": ".py",
   "mimetype": "text/x-python",
   "name": "python",
   "nbconvert_exporter": "python",
   "pygments_lexer": "ipython3",
   "version": "3.8.3"
  }
 },
 "nbformat": 4,
 "nbformat_minor": 5
}
