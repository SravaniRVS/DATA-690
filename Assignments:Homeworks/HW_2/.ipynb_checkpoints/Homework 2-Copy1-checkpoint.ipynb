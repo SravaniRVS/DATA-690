{
 "cells": [
  {
   "cell_type": "markdown",
   "id": "5ba63aa4",
   "metadata": {},
   "source": [
    "## DATA 690 Homework 2 (65 points - Due on Sunday, February 19, 2023 by 11:59 pm ET)\n",
    "\n",
    "The output of this assignment for submission should be in PDF format **AND** .py or .ipynb. The name of the file should be as follows: Lastname_Firstname_Homework2.pdf (example: Thomas_Sunela_Homework2.pdf) **AND** Lastname_Firstname_Homework2.ipynb (example: Thomas_Sunela_Assignment2.ipynb. In short, you are submitting the python notebook as well as the pdf of that notebook. Do **NOT** submit .html file, the system will give you an error.\n",
    "\n",
    "    \n",
    "Incorrect file name will cost you points!<br>\n",
    "\n",
    "Instructions for converting a Jupyter Python notebook to PDF: Go to the menu and choose, File --> Download As --> html. Open that html file and print it to PDF. Submit the PDF file **NOT** the html file.\n",
    "\n",
    "If you are using Google Colab, remember to review the PDF before submitting to ensure that all cells and answers are displayed in the PDF.\n",
    "\n",
    "**Things to note:**\n",
    "\n",
    "* Each cell should display an output\n",
    "\n",
    "* Use both Markdown and code comments in the Jupyter Notebook as needed\n",
    "\n",
    "### Wherever I have displayed an output, the results of your code should match my results. Both our outputs should be displayed.  Do not erase my output displayed.\n",
    "\n",
    "## READ the IMPORTANT NOTE below"
   ]
  },
  {
   "cell_type": "markdown",
   "id": "e8f10606",
   "metadata": {},
   "source": [
    "# NumPy Exercises\n",
    "\n",
    "Now that we've learned about NumPy let's test your knowledge. We'll start off with a few simple tasks and then you'll be asked some more complicated questions.\n",
    "\n",
    "<div class=\"alert alert-danger\" style=\"margin: 10px\"><strong>IMPORTANT NOTE!</strong> Make sure you don't run the cells directly above the example output shown, <br>otherwise you will end up writing over the example output!</div>"
   ]
  },
  {
   "cell_type": "markdown",
   "id": "31489b10",
   "metadata": {},
   "source": [
    "#### 1. Import NumPy as np"
   ]
  },
  {
   "cell_type": "code",
   "execution_count": 1,
   "id": "6ce75790",
   "metadata": {},
   "outputs": [],
   "source": [
    "import numpy as np"
   ]
  },
  {
   "cell_type": "markdown",
   "id": "9f20cb91",
   "metadata": {},
   "source": [
    "#### 2. Create an array of 10 zeros (2 points)"
   ]
  },
  {
   "cell_type": "code",
   "execution_count": 2,
   "id": "0dba6160",
   "metadata": {},
   "outputs": [
    {
     "data": {
      "text/plain": [
       "array([0., 0., 0., 0., 0., 0., 0., 0., 0., 0.])"
      ]
     },
     "execution_count": 2,
     "metadata": {},
     "output_type": "execute_result"
    }
   ],
   "source": [
    "# YOUR CODE HERE\n",
    "np.zeros(10)"
   ]
  },
  {
   "cell_type": "code",
   "execution_count": 3,
   "id": "aa77496f",
   "metadata": {},
   "outputs": [],
   "source": [
    "# DON'T WRITE HERE"
   ]
  },
  {
   "cell_type": "markdown",
   "id": "627cac10",
   "metadata": {},
   "source": [
    "#### 3. Create an array of 10 ones (2 points)"
   ]
  },
  {
   "cell_type": "code",
   "execution_count": 4,
   "id": "7e2d502e",
   "metadata": {},
   "outputs": [
    {
     "data": {
      "text/plain": [
       "array([1., 1., 1., 1., 1., 1., 1., 1., 1., 1.])"
      ]
     },
     "execution_count": 4,
     "metadata": {},
     "output_type": "execute_result"
    }
   ],
   "source": [
    "# YOUR CODE HERE\n",
    "np.ones(10)"
   ]
  },
  {
   "cell_type": "code",
   "execution_count": 5,
   "id": "c61e74aa",
   "metadata": {},
   "outputs": [],
   "source": [
    "# DON'T WRITE HERE"
   ]
  },
  {
   "cell_type": "markdown",
   "id": "b43a774a",
   "metadata": {},
   "source": [
    "#### 3. Create an array of all the even integers from 10 to 50 (3 points)"
   ]
  },
  {
   "cell_type": "code",
   "execution_count": 6,
   "id": "42a2926b",
   "metadata": {},
   "outputs": [
    {
     "data": {
      "text/plain": [
       "array([10, 12, 14, 16, 18, 20, 22, 24, 26, 28, 30, 32, 34, 36, 38, 40, 42,\n",
       "       44, 46, 48])"
      ]
     },
     "execution_count": 6,
     "metadata": {},
     "output_type": "execute_result"
    }
   ],
   "source": [
    "# YOUR CODE HERE\n",
    "np.arange(10,50,2)"
   ]
  },
  {
   "cell_type": "code",
   "execution_count": 7,
   "id": "3327624f",
   "metadata": {},
   "outputs": [],
   "source": [
    "# DON'T WRITE HERE"
   ]
  },
  {
   "cell_type": "markdown",
   "id": "d9bd618c",
   "metadata": {},
   "source": [
    "#### 4. Create a 3x3 matrix with values ranging from 0 to 8 (3 points)"
   ]
  },
  {
   "cell_type": "code",
   "execution_count": 8,
   "id": "91421277",
   "metadata": {},
   "outputs": [
    {
     "data": {
      "text/plain": [
       "array([[0, 1, 2],\n",
       "       [3, 4, 5],\n",
       "       [6, 7, 8]])"
      ]
     },
     "execution_count": 8,
     "metadata": {},
     "output_type": "execute_result"
    }
   ],
   "source": [
    "# YOUR CODE HERE\n",
    "np.arange(0,9).reshape(3,3)"
   ]
  },
  {
   "cell_type": "code",
   "execution_count": 9,
   "id": "4517ecb0",
   "metadata": {},
   "outputs": [],
   "source": [
    "# DON'T WRITE HERE"
   ]
  },
  {
   "cell_type": "markdown",
   "id": "b45ace77",
   "metadata": {},
   "source": [
    "#### 5. Create a 3x3 identity matrix (2 points)"
   ]
  },
  {
   "cell_type": "code",
   "execution_count": 10,
   "id": "c35e7c5e",
   "metadata": {},
   "outputs": [
    {
     "data": {
      "text/plain": [
       "array([[1., 0., 0.],\n",
       "       [0., 1., 0.],\n",
       "       [0., 0., 1.]])"
      ]
     },
     "execution_count": 10,
     "metadata": {},
     "output_type": "execute_result"
    }
   ],
   "source": [
    "# YOUR CODE HERE\n",
    "np.eye(3)"
   ]
  },
  {
   "cell_type": "code",
   "execution_count": 11,
   "id": "cacddf24",
   "metadata": {},
   "outputs": [],
   "source": [
    "# DON'T WRITE HERE"
   ]
  },
  {
   "cell_type": "markdown",
   "id": "388b0084",
   "metadata": {},
   "source": [
    "#### 6. Use NumPy to generate a random number between 0 and 1 (3 points)<br><br>&emsp;NOTE: Your result's value should be different from the one shown below. "
   ]
  },
  {
   "cell_type": "code",
   "execution_count": 119,
   "id": "faea0a60",
   "metadata": {},
   "outputs": [
    {
     "data": {
      "text/plain": [
       "array([0.3])"
      ]
     },
     "execution_count": 119,
     "metadata": {},
     "output_type": "execute_result"
    }
   ],
   "source": [
    "# YOUR CODE HERE\n",
    "np.random.rand(1)"
   ]
  },
  {
   "cell_type": "code",
   "execution_count": 118,
   "id": "cdbae663",
   "metadata": {},
   "outputs": [
    {
     "data": {
      "text/plain": [
       "0.00273220335212776"
      ]
     },
     "execution_count": 118,
     "metadata": {},
     "output_type": "execute_result"
    }
   ],
   "source": [
    "exclude = 0.65248055\n",
    "np.random.choice(np.setdiff1d(np.random.rand(1),exclude))"
   ]
  },
  {
   "cell_type": "code",
   "execution_count": 98,
   "id": "cc22b379",
   "metadata": {},
   "outputs": [],
   "source": [
    "# DON'T WRITE HERE"
   ]
  },
  {
   "cell_type": "markdown",
   "id": "80d6a5b7",
   "metadata": {},
   "source": [
    "#### 7. Create an array of 20 linearly spaced points between 0 and 1: (3 points)"
   ]
  },
  {
   "cell_type": "code",
   "execution_count": 111,
   "id": "eeaebbc9",
   "metadata": {},
   "outputs": [
    {
     "data": {
      "text/plain": [
       "array([0. , 0.1, 0.1, 0.2, 0.2, 0.3, 0.3, 0.4, 0.4, 0.5, 0.5, 0.6, 0.6,\n",
       "       0.7, 0.7, 0.8, 0.8, 0.9, 0.9, 1. ])"
      ]
     },
     "execution_count": 111,
     "metadata": {},
     "output_type": "execute_result"
    }
   ],
   "source": [
    "# YOUR CODE HERE\n",
    "np.linspace(0,1,20)"
   ]
  },
  {
   "cell_type": "code",
   "execution_count": 15,
   "id": "ae104280",
   "metadata": {},
   "outputs": [],
   "source": [
    "# DON'T WRITE HERE"
   ]
  },
  {
   "cell_type": "markdown",
   "id": "fef4a714",
   "metadata": {},
   "source": [
    "## Numpy Indexing and Selection\n",
    "\n",
    "Now you will be given a starting matrix (be sure to run the cell below!), and be asked to replicate the resulting matrix outputs:"
   ]
  },
  {
   "cell_type": "code",
   "execution_count": 16,
   "id": "dd568b72",
   "metadata": {},
   "outputs": [
    {
     "data": {
      "text/plain": [
       "array([[ 1,  2,  3,  4,  5],\n",
       "       [ 6,  7,  8,  9, 10],\n",
       "       [11, 12, 13, 14, 15],\n",
       "       [16, 17, 18, 19, 20],\n",
       "       [21, 22, 23, 24, 25]])"
      ]
     },
     "execution_count": 16,
     "metadata": {},
     "output_type": "execute_result"
    }
   ],
   "source": [
    "# RUN THIS CELL - THIS IS YOUR STARTING MATRIX\n",
    "mat = np.arange(1,26).reshape(5,5)\n",
    "mat"
   ]
  },
  {
   "cell_type": "markdown",
   "id": "58358c0c",
   "metadata": {},
   "source": [
    "#### 8. Write code that reproduces the output shown below. (3 points)<br><br>&emsp;&ensp;Be careful not to run the cell immediately above the output, otherwise you won't be able to see the output any more."
   ]
  },
  {
   "cell_type": "code",
   "execution_count": 17,
   "id": "8ab3faf4",
   "metadata": {},
   "outputs": [
    {
     "data": {
      "text/plain": [
       "array([[12, 13, 14, 15],\n",
       "       [17, 18, 19, 20],\n",
       "       [22, 23, 24, 25]])"
      ]
     },
     "execution_count": 17,
     "metadata": {},
     "output_type": "execute_result"
    }
   ],
   "source": [
    "# YOUR CODE HERE\n",
    "mat[2:5, 1:5]"
   ]
  },
  {
   "cell_type": "code",
   "execution_count": 18,
   "id": "431c0e11",
   "metadata": {},
   "outputs": [],
   "source": [
    "# DON'T WRITE HERE"
   ]
  },
  {
   "cell_type": "markdown",
   "id": "bee2be53",
   "metadata": {},
   "source": [
    "#### 9. Write code that reproduces the output shown below. (2 points)"
   ]
  },
  {
   "cell_type": "code",
   "execution_count": 19,
   "id": "d8044ed9",
   "metadata": {},
   "outputs": [
    {
     "data": {
      "text/plain": [
       "array([[ 2],\n",
       "       [ 7],\n",
       "       [12]])"
      ]
     },
     "execution_count": 19,
     "metadata": {},
     "output_type": "execute_result"
    }
   ],
   "source": [
    "# YOUR CODE HERE\n",
    "mat[0:3,1:2]"
   ]
  },
  {
   "cell_type": "code",
   "execution_count": 20,
   "id": "8ecb5f16",
   "metadata": {},
   "outputs": [],
   "source": [
    "# DON'T WRITE HERE"
   ]
  },
  {
   "cell_type": "markdown",
   "id": "1da120a3",
   "metadata": {},
   "source": [
    "#### 10. Write code that reproduces the output shown below. (2 points)"
   ]
  },
  {
   "cell_type": "code",
   "execution_count": 21,
   "id": "67c65d32",
   "metadata": {},
   "outputs": [
    {
     "data": {
      "text/plain": [
       "array([[16, 17, 18, 19, 20],\n",
       "       [21, 22, 23, 24, 25]])"
      ]
     },
     "execution_count": 21,
     "metadata": {},
     "output_type": "execute_result"
    }
   ],
   "source": [
    "# YOUR CODE HERE\n",
    "mat[3:6, 0:5]"
   ]
  },
  {
   "cell_type": "code",
   "execution_count": 22,
   "id": "4307cb36",
   "metadata": {},
   "outputs": [],
   "source": [
    "# DON'T WRITE HERE"
   ]
  },
  {
   "cell_type": "markdown",
   "id": "e2186f5f",
   "metadata": {},
   "source": [
    "#### 11. Get the sum of all the columns in the following format (3 points)"
   ]
  },
  {
   "cell_type": "code",
   "execution_count": 23,
   "id": "1f50608d",
   "metadata": {},
   "outputs": [
    {
     "data": {
      "text/plain": [
       "array([55, 60, 65, 70, 75])"
      ]
     },
     "execution_count": 23,
     "metadata": {},
     "output_type": "execute_result"
    }
   ],
   "source": [
    "# YOUR CODE HERE\n",
    "mat.sum(axis=0)"
   ]
  },
  {
   "cell_type": "code",
   "execution_count": 24,
   "id": "358c6169",
   "metadata": {},
   "outputs": [],
   "source": [
    "# DON'T WRITE HERE"
   ]
  },
  {
   "cell_type": "markdown",
   "id": "90ae2877",
   "metadata": {},
   "source": [
    "#### 12. We worked a lot with random data with numpy, but is there a way we can insure that we always get the same random numbers? If so, write the code. (2 points)"
   ]
  },
  {
   "cell_type": "code",
   "execution_count": 25,
   "id": "5c27d508",
   "metadata": {},
   "outputs": [
    {
     "data": {
      "text/plain": [
       "array([0.04604099, 0.37024232, 0.24231827, 0.62848001, 0.99011006,\n",
       "       0.13058805, 0.17358916, 0.25831406, 0.41839897, 0.13101889,\n",
       "       0.29045013, 0.49530609, 0.96700431, 0.29738986, 0.65180194])"
      ]
     },
     "execution_count": 25,
     "metadata": {},
     "output_type": "execute_result"
    }
   ],
   "source": [
    "# YOUR CODE HERE\n",
    "\n",
    "# Using seed we can reproduce the same random numbers\n",
    "np.random.seed(84)\n",
    "np.random.rand(15)"
   ]
  },
  {
   "cell_type": "code",
   "execution_count": 26,
   "id": "dfbacdd0",
   "metadata": {},
   "outputs": [
    {
     "data": {
      "text/plain": [
       "array([0.04604099, 0.37024232, 0.24231827, 0.62848001, 0.99011006,\n",
       "       0.13058805, 0.17358916, 0.25831406, 0.41839897, 0.13101889,\n",
       "       0.29045013, 0.49530609, 0.96700431, 0.29738986, 0.65180194])"
      ]
     },
     "execution_count": 26,
     "metadata": {},
     "output_type": "execute_result"
    }
   ],
   "source": [
    "np.random.seed(84)\n",
    "np.random.rand(15)"
   ]
  },
  {
   "cell_type": "markdown",
   "id": "5a3e3509",
   "metadata": {},
   "source": [
    "# Matplotlib Exercises \n",
    "\n",
    "**NOTE: ALL THE COMMANDS FOR PLOTTING A FIGURE SHOULD ALL GO IN THE SAME CELL. SEPARATING THEM OUT INTO MULTIPLE CELLS MAY CAUSE NOTHING TO SHOW UP.**\n",
    "\n",
    "**We will focus on two commons tasks, plotting a known relationship from an equation and plotting raw data points.**\n",
    "\n",
    "Follow the instructions to complete the tasks to recreate the plots using this data:\n",
    "\n",
    "\n",
    "### 13. Create data from an equation (10 points)\n",
    "\n",
    "It is important to be able to directly translate a real equation into a plot. Your first task actually is pure numpy, then we will explore how to plot it out with Matplotlib. The [world famous equation](https://en.wikipedia.org/wiki/Mass%E2%80%93energy_equivalence) from Einstein:\n",
    "\n",
    "$$E=mc^2$$\n",
    "\n",
    "\n",
    "Use your knowledge of Numpy to create two arrays: E and m , where **m** is simply 11 evenly spaced values representing 0 grams to 10 grams. E should be the equivalent energy for the mass. You will need to figure out what to provide for **c** for the units m/s, a quick google search will easily give you the answer (we'll use the close approximation in our solutions).\n"
   ]
  },
  {
   "cell_type": "code",
   "execution_count": 27,
   "id": "29cf8e92",
   "metadata": {},
   "outputs": [
    {
     "name": "stdout",
     "output_type": "stream",
     "text": [
      "[ 0.  1.  2.  3.  4.  5.  6.  7.  8.  9. 10.]\n"
     ]
    }
   ],
   "source": [
    "# CODE HERE\n",
    "\n",
    "# Define the mass values in grams\n",
    "m = np.linspace(0, 10, 11)\n",
    "print(m)"
   ]
  },
  {
   "cell_type": "code",
   "execution_count": 28,
   "id": "e51578ae",
   "metadata": {},
   "outputs": [],
   "source": [
    "# DON'T WRITE HERE or RUN THE CELL"
   ]
  },
  {
   "cell_type": "code",
   "execution_count": 29,
   "id": "c9e76bde",
   "metadata": {},
   "outputs": [
    {
     "name": "stdout",
     "output_type": "stream",
     "text": [
      "[0.0e+00 9.0e+16 1.8e+17 2.7e+17 3.6e+17 4.5e+17 5.4e+17 6.3e+17 7.2e+17\n",
      " 8.1e+17 9.0e+17]\n"
     ]
    }
   ],
   "source": [
    "# CODE HERE\n",
    "\n",
    "# Defining the speed of light in meters per second (m/s)\n",
    "c = 299792458\n",
    "\n",
    "# Calculating energy using the formula E=mc^2\n",
    "E = m * c**2\n",
    "\n",
    "# Format the array to have the desired precision and scientific notation\n",
    "np.set_printoptions(precision=1, suppress=True)\n",
    "\n",
    "print(E)"
   ]
  },
  {
   "cell_type": "code",
   "execution_count": 30,
   "id": "f4fa00f7",
   "metadata": {},
   "outputs": [],
   "source": [
    "# DON'T WRITE HERE or RUN THE CELL"
   ]
  },
  {
   "cell_type": "markdown",
   "id": "09912efa",
   "metadata": {},
   "source": [
    "### 14. Plot E=mc^2 (10 points)\n",
    "\n",
    "Now that we have the arrays E and m, we can plot this to see the relationship between Energy and Mass. \n",
    "\n",
    "**TASK: Import what you need from Matplotlib to plot out graphs:**"
   ]
  },
  {
   "cell_type": "code",
   "execution_count": 31,
   "id": "7fffe35a",
   "metadata": {},
   "outputs": [],
   "source": [
    "import matplotlib.pyplot as plt\n",
    "%matplotlib inline"
   ]
  },
  {
   "cell_type": "markdown",
   "id": "22f26d68",
   "metadata": {},
   "source": [
    "**TASK: Recreate the plot shown below which maps out E=mc^2 using the arrays we created in the previous task. Note the labels, titles, color, and axis limits. You don't need to match perfectly, but you should attempt to re-create each major component.**"
   ]
  },
  {
   "cell_type": "code",
   "execution_count": 32,
   "id": "c59bdf12",
   "metadata": {},
   "outputs": [
    {
     "data": {
      "image/png": "[encoded data removed]",
      "text/plain": [
       "<Figure size 432x288 with 1 Axes>"
      ]
     },
     "metadata": {
      "needs_background": "light"
     },
     "output_type": "display_data"
    }
   ],
   "source": [
    "# CODE HERE\n",
    "plt.plot(m,E,'red',lw=4.5)\n",
    "\n",
    "# Set the limits for the x and y axes\n",
    "plt.xlim(0, 10)\n",
    "plt.ylim(0, 9e17)\n",
    "plt.xticks(np.arange(0, 11, 2))\n",
    "plt.yticks(np.arange(0, 9e17, 2e17))\n",
    "plt.xlabel('Mass in Grams')\n",
    "plt.ylabel('Energy in Joules')\n",
    "plt.title('E=mc^2')\n",
    "plt.show()\n"
   ]
  },
  {
   "cell_type": "code",
   "execution_count": 33,
   "id": "1cd4afb0",
   "metadata": {},
   "outputs": [
    {
     "data": {
      "image/png": "[encoded data removed]",
      "text/plain": [
       "<Figure size 432x288 with 1 Axes>"
      ]
     },
     "metadata": {
      "needs_background": "light"
     },
     "output_type": "display_data"
    }
   ],
   "source": [
    "fig = plt.figure()\n",
    "ax = fig.add_axes([0.6,0.6,0.8,0.8])\n",
    "\n",
    "ax.plot(m, E)\n",
    "ax.set_xlim(0, 10)\n",
    "ax.set_ylim(0, 9e17)\n",
    "ax.set_yticks(np.arange(0, 9e17, 2e17))\n",
    "#ax.spines['left'].set_position('zero')\n",
    "\n",
    "\n",
    "plt.show()"
   ]
  },
  {
   "cell_type": "code",
   "execution_count": 34,
   "id": "74068810",
   "metadata": {},
   "outputs": [],
   "source": [
    "# DON'T RUN THE CELL BELOW< THAT WILL ERASE THE PLOT!"
   ]
  },
  {
   "cell_type": "code",
   "execution_count": null,
   "id": "e97c2254",
   "metadata": {},
   "outputs": [],
   "source": []
  },
  {
   "cell_type": "markdown",
   "id": "a89bb828",
   "metadata": {
    "collapsed": true
   },
   "source": [
    "---\n",
    "---\n",
    "\n",
    "## 15. Create plots from data points (15 points)\n",
    "\n",
    "In finance, the yield curve is a curve showing several yields to maturity or interest rates across different contract lengths (2 month, 2 year, 20 year, etc. ...) for a similar debt contract. The curve shows the relation between the (level of the) interest rate (or cost of borrowing) and the time to maturity, known as the \"term\", of the debt for a given borrower in a given currency.\n",
    "\n",
    "The U.S. dollar interest rates paid on U.S. Treasury securities for various maturities are closely watched by many traders, and are commonly plotted on a graph such as the one on the right, which is informally called \"the yield curve\".\n",
    "\n",
    "**For this exercise, we will give you the data for the yield curves at two separate points in time. Then we will ask you to create some plots from this data.**\n",
    "\n",
    "## Part One: Yield Curve Data\n",
    "\n",
    "**We've obtained some yield curve data for you from the [US Treasury Dept.](https://www.treasury.gov/resource-center/data-chart-center/interest-rates/pages/textview.aspx?data=yield). The data shows the interest paid for a US Treasury bond for a certain contract length. The labels list shows the corresponding contract length per index position.**\n",
    "\n",
    "**TASK: Run the cell below to create the lists for plotting.**"
   ]
  },
  {
   "cell_type": "code",
   "execution_count": 35,
   "id": "186bfe37",
   "metadata": {},
   "outputs": [],
   "source": [
    "labels = ['1 Mo','3 Mo','6 Mo','1 Yr','2 Yr','3 Yr','5 Yr','7 Yr','10 Yr','20 Yr','30 Yr']\n",
    "\n",
    "july16_2007 =[4.75,4.98,5.08,5.01,4.89,4.89,4.95,4.99,5.05,5.21,5.14]\n",
    "july16_2020 = [0.12,0.11,0.13,0.14,0.16,0.17,0.28,0.46,0.62,1.09,1.31]"
   ]
  },
  {
   "cell_type": "markdown",
   "id": "be3ae9d8",
   "metadata": {},
   "source": [
    "**TASK: Figure out how to plot both curves on the same Figure. Add a legend to show which curve corresponds to a certain year.**"
   ]
  },
  {
   "cell_type": "code",
   "execution_count": 36,
   "id": "a9ed42ff",
   "metadata": {},
   "outputs": [],
   "source": [
    "# CODE HERE"
   ]
  },
  {
   "cell_type": "code",
   "execution_count": 37,
   "id": "41c12893",
   "metadata": {},
   "outputs": [],
   "source": [
    "# DONT RUN THE CELL BELOW! IT WILL ERASE THE PLOT!"
   ]
  },
  {
   "cell_type": "code",
   "execution_count": null,
   "id": "4caf5004",
   "metadata": {},
   "outputs": [],
   "source": []
  },
  {
   "cell_type": "markdown",
   "id": "976f0bb1",
   "metadata": {},
   "source": [
    "**TASK: The legend in the plot above looks a little strange in the middle of the curves. While it is not blocking anything, it would be nicer if it were *outside* the plot. Figure out how to move the legend outside the main Figure plot.**"
   ]
  },
  {
   "cell_type": "code",
   "execution_count": 38,
   "id": "21764598",
   "metadata": {},
   "outputs": [],
   "source": [
    "# CODE HERE"
   ]
  },
  {
   "cell_type": "code",
   "execution_count": 39,
   "id": "515dd5e9",
   "metadata": {},
   "outputs": [],
   "source": [
    "# DONT RUN THE CELL BELOW! IT WILL ERASE THE PLOT!"
   ]
  },
  {
   "cell_type": "code",
   "execution_count": null,
   "id": "395926cc",
   "metadata": {},
   "outputs": [],
   "source": []
  },
  {
   "cell_type": "code",
   "execution_count": null,
   "id": "ac98c34c",
   "metadata": {},
   "outputs": [],
   "source": []
  }
 ],
 "metadata": {
  "kernelspec": {
   "display_name": "Python 3 (ipykernel)",
   "language": "python",
   "name": "python3"
  },
  "language_info": {
   "codemirror_mode": {
    "name": "ipython",
    "version": 3
   },
   "file_extension": ".py",
   "mimetype": "text/x-python",
   "name": "python",
   "nbconvert_exporter": "python",
   "pygments_lexer": "ipython3",
   "version": "3.9.7"
  }
 },
 "nbformat": 4,
 "nbformat_minor": 5
}
