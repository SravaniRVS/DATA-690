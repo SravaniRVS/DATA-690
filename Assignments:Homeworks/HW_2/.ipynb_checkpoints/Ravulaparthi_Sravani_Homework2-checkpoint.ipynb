{
 "cells": [
  {
   "cell_type": "markdown",
   "id": "5ba63aa4",
   "metadata": {},
   "source": [
    "## DATA 690 Homework 2 (65 points - Due on Sunday, February 19, 2023 by 11:59 pm ET)\n",
    "\n",
    "The output of this assignment for submission should be in PDF format **AND** .py or .ipynb. The name of the file should be as follows: Lastname_Firstname_Homework2.pdf (example: Thomas_Sunela_Homework2.pdf) **AND** Lastname_Firstname_Homework2.ipynb (example: Thomas_Sunela_Assignment2.ipynb. In short, you are submitting the python notebook as well as the pdf of that notebook. Do **NOT** submit .html file, the system will give you an error.\n",
    "\n",
    "    \n",
    "Incorrect file name will cost you points!<br>\n",
    "\n",
    "Instructions for converting a Jupyter Python notebook to PDF: Go to the menu and choose, File --> Download As --> html. Open that html file and print it to PDF. Submit the PDF file **NOT** the html file.\n",
    "\n",
    "If you are using Google Colab, remember to review the PDF before submitting to ensure that all cells and answers are displayed in the PDF.\n",
    "\n",
    "**Things to note:**\n",
    "\n",
    "* Each cell should display an output\n",
    "\n",
    "* Use both Markdown and code comments in the Jupyter Notebook as needed\n",
    "\n",
    "### Wherever I have displayed an output, the results of your code should match my results. Both our outputs should be displayed.  Do not erase my output displayed.\n",
    "\n",
    "## READ the IMPORTANT NOTE below"
   ]
  },
  {
   "cell_type": "markdown",
   "id": "e8f10606",
   "metadata": {},
   "source": [
    "# NumPy Exercises\n",
    "\n",
    "Now that we've learned about NumPy let's test your knowledge. We'll start off with a few simple tasks and then you'll be asked some more complicated questions.\n",
    "\n",
    "<div class=\"alert alert-danger\" style=\"margin: 10px\"><strong>IMPORTANT NOTE!</strong> Make sure you don't run the cells directly above the example output shown, <br>otherwise you will end up writing over the example output!</div>"
   ]
  },
  {
   "cell_type": "markdown",
   "id": "31489b10",
   "metadata": {},
   "source": [
    "#### 1. Import NumPy as np"
   ]
  },
  {
   "cell_type": "code",
   "execution_count": 1,
   "id": "6ce75790",
   "metadata": {},
   "outputs": [],
   "source": [
    "import numpy as np"
   ]
  },
  {
   "cell_type": "markdown",
   "id": "dd23a3a8",
   "metadata": {},
   "source": [
    "The line **```import numpy as np```** is a statement that imports the NumPy library and gives it an alias ```np```. So that whenever we want to use numpy built-in functions, we just need to use np instead of numpy."
   ]
  },
  {
   "cell_type": "markdown",
   "id": "9f20cb91",
   "metadata": {},
   "source": [
    "#### 2. Create an array of 10 zeros (2 points)"
   ]
  },
  {
   "cell_type": "code",
   "execution_count": 2,
   "id": "0dba6160",
   "metadata": {},
   "outputs": [
    {
     "data": {
      "text/plain": [
       "array([0., 0., 0., 0., 0., 0., 0., 0., 0., 0.])"
      ]
     },
     "execution_count": 2,
     "metadata": {},
     "output_type": "execute_result"
    }
   ],
   "source": [
    "# YOUR CODE HERE\n",
    "\n",
    "np.zeros(10)"
   ]
  },
  {
   "cell_type": "markdown",
   "id": "9d5733a1",
   "metadata": {},
   "source": [
    "#### Explanation:\n",
    "\n",
    "I've used **```np.zeros()```** from NumPy, to create a NumPy array of elements filled with zeros. We have to sepecify the number of elements in the array in the parentheses. "
   ]
  },
  {
   "cell_type": "code",
   "execution_count": 2,
   "id": "aa77496f",
   "metadata": {},
   "outputs": [
    {
     "data": {
      "text/plain": [
       "array([0., 0., 0., 0., 0., 0., 0., 0., 0., 0.])"
      ]
     },
     "execution_count": 2,
     "metadata": {},
     "output_type": "execute_result"
    }
   ],
   "source": [
    "# DON'T WRITE HERE"
   ]
  },
  {
   "cell_type": "markdown",
   "id": "627cac10",
   "metadata": {},
   "source": [
    "#### 3. Create an array of 10 ones (2 points)"
   ]
  },
  {
   "cell_type": "code",
   "execution_count": 3,
   "id": "7e2d502e",
   "metadata": {},
   "outputs": [
    {
     "data": {
      "text/plain": [
       "array([1., 1., 1., 1., 1., 1., 1., 1., 1., 1.])"
      ]
     },
     "execution_count": 3,
     "metadata": {},
     "output_type": "execute_result"
    }
   ],
   "source": [
    "# YOUR CODE HERE\n",
    "np.ones(10)"
   ]
  },
  {
   "cell_type": "markdown",
   "id": "e2898ae0",
   "metadata": {},
   "source": [
    "#### Explanation:\n",
    "\n",
    "I've used **```np.ones()```** from NumPy, to create a NumPy array of elements filled with ones. We have to sepecify the number of elements in the array in the parentheses. "
   ]
  },
  {
   "cell_type": "code",
   "execution_count": 3,
   "id": "c61e74aa",
   "metadata": {},
   "outputs": [
    {
     "data": {
      "text/plain": [
       "array([1., 1., 1., 1., 1., 1., 1., 1., 1., 1.])"
      ]
     },
     "execution_count": 3,
     "metadata": {},
     "output_type": "execute_result"
    }
   ],
   "source": [
    "# DON'T WRITE HERE"
   ]
  },
  {
   "cell_type": "markdown",
   "id": "b43a774a",
   "metadata": {},
   "source": [
    "#### 3. Create an array of all the even integers from 10 to 50 (3 points)"
   ]
  },
  {
   "cell_type": "code",
   "execution_count": 4,
   "id": "42a2926b",
   "metadata": {},
   "outputs": [
    {
     "data": {
      "text/plain": [
       "array([10, 12, 14, 16, 18, 20, 22, 24, 26, 28, 30, 32, 34, 36, 38, 40, 42,\n",
       "       44, 46, 48, 50])"
      ]
     },
     "execution_count": 4,
     "metadata": {},
     "output_type": "execute_result"
    }
   ],
   "source": [
    "# YOUR CODE HERE\n",
    "np.arange(10,51,2)"
   ]
  },
  {
   "cell_type": "markdown",
   "id": "9148cd13",
   "metadata": {},
   "source": [
    "#### Explanation:\n",
    "\n",
    "The **```arange()```** function in NumPy creates a NumPy array of evenly spaced values within a given interval. The third argument in **```np.arange()```** specifies the step size between each number in the array. In this case, it's set to 2, which means that the array contains only even numbers between the given starting number 10 and ending number 51. \n"
   ]
  },
  {
   "cell_type": "code",
   "execution_count": 6,
   "id": "3327624f",
   "metadata": {},
   "outputs": [
    {
     "data": {
      "text/plain": [
       "array([10, 12, 14, 16, 18, 20, 22, 24, 26, 28, 30, 32, 34, 36, 38, 40, 42,\n",
       "       44, 46, 48, 50])"
      ]
     },
     "execution_count": 6,
     "metadata": {},
     "output_type": "execute_result"
    }
   ],
   "source": [
    "# DON'T WRITE HERE"
   ]
  },
  {
   "cell_type": "markdown",
   "id": "d9bd618c",
   "metadata": {},
   "source": [
    "#### 4. Create a 3x3 matrix with values ranging from 0 to 8 (3 points)"
   ]
  },
  {
   "cell_type": "code",
   "execution_count": 5,
   "id": "91421277",
   "metadata": {},
   "outputs": [
    {
     "data": {
      "text/plain": [
       "array([[0, 1, 2],\n",
       "       [3, 4, 5],\n",
       "       [6, 7, 8]])"
      ]
     },
     "execution_count": 5,
     "metadata": {},
     "output_type": "execute_result"
    }
   ],
   "source": [
    "# YOUR CODE HERE\n",
    "np.arange(0,9).reshape(3,3)"
   ]
  },
  {
   "cell_type": "markdown",
   "id": "156e1b80",
   "metadata": {},
   "source": [
    "#### Explanation:\n",
    "The **```np.arange(0, 9)```** function creates a 1D array containing the numbers 0 to 8, and then the **```.reshape(3, 3)```** method reshapes this 1D array into a 3x3 2D array."
   ]
  },
  {
   "cell_type": "code",
   "execution_count": 7,
   "id": "4517ecb0",
   "metadata": {},
   "outputs": [
    {
     "data": {
      "text/plain": [
       "array([[0, 1, 2],\n",
       "       [3, 4, 5],\n",
       "       [6, 7, 8]])"
      ]
     },
     "execution_count": 7,
     "metadata": {},
     "output_type": "execute_result"
    }
   ],
   "source": [
    "# DON'T WRITE HERE"
   ]
  },
  {
   "cell_type": "markdown",
   "id": "b45ace77",
   "metadata": {},
   "source": [
    "#### 5. Create a 3x3 identity matrix (2 points)"
   ]
  },
  {
   "cell_type": "code",
   "execution_count": 6,
   "id": "c35e7c5e",
   "metadata": {},
   "outputs": [
    {
     "data": {
      "text/plain": [
       "array([[1., 0., 0.],\n",
       "       [0., 1., 0.],\n",
       "       [0., 0., 1.]])"
      ]
     },
     "execution_count": 6,
     "metadata": {},
     "output_type": "execute_result"
    }
   ],
   "source": [
    "# YOUR CODE HERE\n",
    "\n",
    "np.eye(3)"
   ]
  },
  {
   "cell_type": "markdown",
   "id": "946ab121",
   "metadata": {},
   "source": [
    "#### Explanation:\n",
    "\n",
    "I used the **```np.eye(n)```** function in NumPy to create a **```nxn```** identity matrix, where n is the number of rows and columns. An identity matrix is a square matrix with ones on the main diagonal and zeros everywhere else."
   ]
  },
  {
   "cell_type": "code",
   "execution_count": 8,
   "id": "cacddf24",
   "metadata": {},
   "outputs": [
    {
     "data": {
      "text/plain": [
       "array([[1., 0., 0.],\n",
       "       [0., 1., 0.],\n",
       "       [0., 0., 1.]])"
      ]
     },
     "execution_count": 8,
     "metadata": {},
     "output_type": "execute_result"
    }
   ],
   "source": [
    "# DON'T WRITE HERE"
   ]
  },
  {
   "cell_type": "markdown",
   "id": "388b0084",
   "metadata": {},
   "source": [
    "#### 6. Use NumPy to generate a random number between 0 and 1 (3 points)<br><br>&emsp;NOTE: Your result's value should be different from the one shown below. "
   ]
  },
  {
   "cell_type": "code",
   "execution_count": 7,
   "id": "faea0a60",
   "metadata": {},
   "outputs": [
    {
     "data": {
      "text/plain": [
       "array([0.63637561])"
      ]
     },
     "execution_count": 7,
     "metadata": {},
     "output_type": "execute_result"
    }
   ],
   "source": [
    "# YOUR CODE HERE\n",
    "\n",
    "# Defining the value that's not to be matched\n",
    "value = 0.65248055\n",
    "\n",
    "# Loop until a different number is generated\n",
    "while True:\n",
    "    random_number = np.random.rand()  # Generate a random number between 0 and 1\n",
    "    if random_number != value:        # Check if the new number is different from value\n",
    "        break                         # If a different number is found, exit the loop\n",
    "\n",
    "# Create a NumPy array with a single element\n",
    "random_array = np.array([random_number])\n",
    "\n",
    "# Setting the precision for printing arrays\n",
    "np.set_printoptions(precision=8)\n",
    "\n",
    "# Print the result\n",
    "random_array"
   ]
  },
  {
   "cell_type": "markdown",
   "id": "b2957b35",
   "metadata": {},
   "source": [
    "#### Explanation:\n",
    "\n",
    "+ First assigned the random number **```0.65248055```** to the variable **```value```** because that number should not be matched.\n",
    "+ Then created a while loop, to generate a random number that is different than **```value```**\n",
    "+ Used **```np.random.rand()```** from NumPy to generate a random float between 0 and 1. \n",
    "+ Then used **```np.array()```** to print the output in the desired way.\n",
    "+ **```np.set_printoptions()```** was used to set the precision to limit the number of decimals, which is 8 in **```value```** "
   ]
  },
  {
   "cell_type": "code",
   "execution_count": 9,
   "id": "cc22b379",
   "metadata": {},
   "outputs": [
    {
     "data": {
      "text/plain": [
       "array([0.65248055])"
      ]
     },
     "execution_count": 9,
     "metadata": {},
     "output_type": "execute_result"
    }
   ],
   "source": [
    "# DON'T WRITE HERE"
   ]
  },
  {
   "cell_type": "markdown",
   "id": "80d6a5b7",
   "metadata": {},
   "source": [
    "#### 7. Create an array of 20 linearly spaced points between 0 and 1: (3 points)"
   ]
  },
  {
   "cell_type": "code",
   "execution_count": 8,
   "id": "eeaebbc9",
   "metadata": {},
   "outputs": [
    {
     "data": {
      "text/plain": [
       "array([0.        , 0.05263158, 0.10526316, 0.15789474, 0.21052632,\n",
       "       0.26315789, 0.31578947, 0.36842105, 0.42105263, 0.47368421,\n",
       "       0.52631579, 0.57894737, 0.63157895, 0.68421053, 0.73684211,\n",
       "       0.78947368, 0.84210526, 0.89473684, 0.94736842, 1.        ])"
      ]
     },
     "execution_count": 8,
     "metadata": {},
     "output_type": "execute_result"
    }
   ],
   "source": [
    "# YOUR CODE HERE\n",
    "np.linspace(0,1,20)"
   ]
  },
  {
   "cell_type": "markdown",
   "id": "548b796c",
   "metadata": {},
   "source": [
    "#### Explanation:\n",
    "\n",
    "To solve this, I've used **```linspace()```** function in NumPy to create a NumPy array of evenly spaced numbers within a given interval, and the third argument is used to specify the number of elements in the array instead of the step size between them. "
   ]
  },
  {
   "cell_type": "code",
   "execution_count": 12,
   "id": "ae104280",
   "metadata": {},
   "outputs": [
    {
     "data": {
      "text/plain": [
       "array([0.        , 0.05263158, 0.10526316, 0.15789474, 0.21052632,\n",
       "       0.26315789, 0.31578947, 0.36842105, 0.42105263, 0.47368421,\n",
       "       0.52631579, 0.57894737, 0.63157895, 0.68421053, 0.73684211,\n",
       "       0.78947368, 0.84210526, 0.89473684, 0.94736842, 1.        ])"
      ]
     },
     "execution_count": 12,
     "metadata": {},
     "output_type": "execute_result"
    }
   ],
   "source": [
    "# DON'T WRITE HERE"
   ]
  },
  {
   "cell_type": "markdown",
   "id": "fef4a714",
   "metadata": {},
   "source": [
    "## Numpy Indexing and Selection\n",
    "\n",
    "Now you will be given a starting matrix (be sure to run the cell below!), and be asked to replicate the resulting matrix outputs:"
   ]
  },
  {
   "cell_type": "code",
   "execution_count": 9,
   "id": "dd568b72",
   "metadata": {},
   "outputs": [
    {
     "data": {
      "text/plain": [
       "array([[ 1,  2,  3,  4,  5],\n",
       "       [ 6,  7,  8,  9, 10],\n",
       "       [11, 12, 13, 14, 15],\n",
       "       [16, 17, 18, 19, 20],\n",
       "       [21, 22, 23, 24, 25]])"
      ]
     },
     "execution_count": 9,
     "metadata": {},
     "output_type": "execute_result"
    }
   ],
   "source": [
    "# RUN THIS CELL - THIS IS YOUR STARTING MATRIX\n",
    "mat = np.arange(1,26).reshape(5,5)\n",
    "mat"
   ]
  },
  {
   "cell_type": "markdown",
   "id": "58358c0c",
   "metadata": {},
   "source": [
    "#### 8. Write code that reproduces the output shown below. (3 points)<br><br>&emsp;&ensp;Be careful not to run the cell immediately above the output, otherwise you won't be able to see the output any more."
   ]
  },
  {
   "cell_type": "code",
   "execution_count": 10,
   "id": "8ab3faf4",
   "metadata": {},
   "outputs": [
    {
     "data": {
      "text/plain": [
       "array([[12, 13, 14, 15],\n",
       "       [17, 18, 19, 20],\n",
       "       [22, 23, 24, 25]])"
      ]
     },
     "execution_count": 10,
     "metadata": {},
     "output_type": "execute_result"
    }
   ],
   "source": [
    "# YOUR CODE HERE\n",
    "mat[2:, 1:5]"
   ]
  },
  {
   "cell_type": "markdown",
   "id": "f6c93f62",
   "metadata": {},
   "source": [
    "#### Explanation:\n",
    "\n",
    "+ Used slicing to get the desired output. \n",
    "+ The second line of this code **```mat[2:, 1:5]```** extracts a subarray from mat. It selects the last three rows (having index 2, 3, and 4), and the columns second to last(having index 1, 2, 3, and 4). \n",
    "+ In simple terms, this creates a subarray that is a 3x4 matrix containing the elements in **the bottom two rows and the last four columns of mat.**\n"
   ]
  },
  {
   "cell_type": "code",
   "execution_count": 14,
   "id": "431c0e11",
   "metadata": {},
   "outputs": [
    {
     "data": {
      "text/plain": [
       "array([[12, 13, 14, 15],\n",
       "       [17, 18, 19, 20],\n",
       "       [22, 23, 24, 25]])"
      ]
     },
     "execution_count": 14,
     "metadata": {},
     "output_type": "execute_result"
    }
   ],
   "source": [
    "# DON'T WRITE HERE"
   ]
  },
  {
   "cell_type": "markdown",
   "id": "bee2be53",
   "metadata": {},
   "source": [
    "#### 9. Write code that reproduces the output shown below. (2 points)"
   ]
  },
  {
   "cell_type": "code",
   "execution_count": 11,
   "id": "d8044ed9",
   "metadata": {},
   "outputs": [
    {
     "data": {
      "text/plain": [
       "array([[ 2],\n",
       "       [ 7],\n",
       "       [12]])"
      ]
     },
     "execution_count": 11,
     "metadata": {},
     "output_type": "execute_result"
    }
   ],
   "source": [
    "# YOUR CODE HERE\n",
    "mat[0:3,1:2]"
   ]
  },
  {
   "cell_type": "markdown",
   "id": "ab6726a5",
   "metadata": {},
   "source": [
    "#### Explanation:\n",
    "\n",
    "Similar to the previous question, I've used slicing here as well. To explain the line of code in simple terms, we are extracting **the elements in the first three rows and the second column** in the matrix **mat.** "
   ]
  },
  {
   "cell_type": "code",
   "execution_count": 16,
   "id": "8ecb5f16",
   "metadata": {},
   "outputs": [
    {
     "data": {
      "text/plain": [
       "array([[ 2],\n",
       "       [ 7],\n",
       "       [12]])"
      ]
     },
     "execution_count": 16,
     "metadata": {},
     "output_type": "execute_result"
    }
   ],
   "source": [
    "# DON'T WRITE HERE"
   ]
  },
  {
   "cell_type": "markdown",
   "id": "1da120a3",
   "metadata": {},
   "source": [
    "#### 10. Write code that reproduces the output shown below. (2 points)"
   ]
  },
  {
   "cell_type": "code",
   "execution_count": 12,
   "id": "67c65d32",
   "metadata": {},
   "outputs": [
    {
     "data": {
      "text/plain": [
       "array([[16, 17, 18, 19, 20],\n",
       "       [21, 22, 23, 24, 25]])"
      ]
     },
     "execution_count": 12,
     "metadata": {},
     "output_type": "execute_result"
    }
   ],
   "source": [
    "# YOUR CODE HERE\n",
    "mat[3:, :]"
   ]
  },
  {
   "cell_type": "markdown",
   "id": "3994c877",
   "metadata": {},
   "source": [
    "#### Explanation:\n",
    "\n",
    "Similar to the previous two questions, I've used slicing here as well. To explain the line of code in simple terms, we are extracting **the elements in the first two rows and all the columns** in the matrix **mat.** "
   ]
  },
  {
   "cell_type": "code",
   "execution_count": 18,
   "id": "4307cb36",
   "metadata": {},
   "outputs": [
    {
     "data": {
      "text/plain": [
       "array([[16, 17, 18, 19, 20],\n",
       "       [21, 22, 23, 24, 25]])"
      ]
     },
     "execution_count": 18,
     "metadata": {},
     "output_type": "execute_result"
    }
   ],
   "source": [
    "# DON'T WRITE HERE"
   ]
  },
  {
   "cell_type": "markdown",
   "id": "e2186f5f",
   "metadata": {},
   "source": [
    "#### 11. Get the sum of all the columns in the following format (3 points)"
   ]
  },
  {
   "cell_type": "code",
   "execution_count": 13,
   "id": "1f50608d",
   "metadata": {},
   "outputs": [
    {
     "data": {
      "text/plain": [
       "array([55, 60, 65, 70, 75])"
      ]
     },
     "execution_count": 13,
     "metadata": {},
     "output_type": "execute_result"
    }
   ],
   "source": [
    "# YOUR CODE HERE\n",
    "mat.sum(axis=0)"
   ]
  },
  {
   "cell_type": "markdown",
   "id": "0e8bea6f",
   "metadata": {},
   "source": [
    "#### Explanation:\n",
    "\n",
    "The **```sum()```** method in NumPy is used to calculate the sum of all the elements in an array or along a specified axis.The **```axis=0```** argument specifies that the sum should be calculated along the 0th axis, which corresponds to the columns."
   ]
  },
  {
   "cell_type": "code",
   "execution_count": 21,
   "id": "358c6169",
   "metadata": {},
   "outputs": [
    {
     "data": {
      "text/plain": [
       "array([55, 60, 65, 70, 75])"
      ]
     },
     "execution_count": 21,
     "metadata": {},
     "output_type": "execute_result"
    }
   ],
   "source": [
    "# DON'T WRITE HERE"
   ]
  },
  {
   "cell_type": "markdown",
   "id": "90ae2877",
   "metadata": {},
   "source": [
    "#### 12. We worked a lot with random data with numpy, but is there a way we can insure that we always get the same random numbers? If so, write the code. (2 points)"
   ]
  },
  {
   "cell_type": "code",
   "execution_count": 14,
   "id": "5c27d508",
   "metadata": {},
   "outputs": [
    {
     "data": {
      "text/plain": [
       "array([0.04604099, 0.37024232, 0.24231827, 0.62848001, 0.99011006,\n",
       "       0.13058805, 0.17358916, 0.25831406, 0.41839897, 0.13101889,\n",
       "       0.29045013, 0.49530609, 0.96700431, 0.29738986, 0.65180194])"
      ]
     },
     "execution_count": 14,
     "metadata": {},
     "output_type": "execute_result"
    }
   ],
   "source": [
    "# YOUR CODE HERE\n",
    "\n",
    "# Using seed we can reproduce the same random numbers\n",
    "np.random.seed(84)\n",
    "np.random.rand(15)"
   ]
  },
  {
   "cell_type": "code",
   "execution_count": 15,
   "id": "a91c223a",
   "metadata": {},
   "outputs": [
    {
     "data": {
      "text/plain": [
       "array([0.04604099, 0.37024232, 0.24231827, 0.62848001, 0.99011006,\n",
       "       0.13058805, 0.17358916, 0.25831406, 0.41839897, 0.13101889,\n",
       "       0.29045013, 0.49530609, 0.96700431, 0.29738986, 0.65180194])"
      ]
     },
     "execution_count": 15,
     "metadata": {},
     "output_type": "execute_result"
    }
   ],
   "source": [
    "np.random.seed(84)\n",
    "np.random.rand(15)"
   ]
  },
  {
   "cell_type": "markdown",
   "id": "b118f52a",
   "metadata": {},
   "source": [
    "#### Explanation:\n",
    "\n",
    "The code **```np.random.seed()```** sets the random seed for the NumPy random number generator. Setting the seed ensures that the random numbers generated by NumPy will be the same every time the code is run.\n",
    "\n",
    "As we've seen before the code **```np.random.rand(n)```** generates an array of **```n```** random numbers between 0 and 1, sampled from a uniform distribution. "
   ]
  },
  {
   "cell_type": "markdown",
   "id": "5a3e3509",
   "metadata": {},
   "source": [
    "# Matplotlib Exercises \n",
    "\n",
    "**NOTE: ALL THE COMMANDS FOR PLOTTING A FIGURE SHOULD ALL GO IN THE SAME CELL. SEPARATING THEM OUT INTO MULTIPLE CELLS MAY CAUSE NOTHING TO SHOW UP.**\n",
    "\n",
    "**We will focus on two commons tasks, plotting a known relationship from an equation and plotting raw data points.**\n",
    "\n",
    "Follow the instructions to complete the tasks to recreate the plots using this data:\n",
    "\n",
    "\n",
    "### 13. Create data from an equation (10 points)\n",
    "\n",
    "It is important to be able to directly translate a real equation into a plot. Your first task actually is pure numpy, then we will explore how to plot it out with Matplotlib. The [world famous equation](https://en.wikipedia.org/wiki/Mass%E2%80%93energy_equivalence) from Einstein:\n",
    "\n",
    "$$E=mc^2$$\n",
    "\n",
    "\n",
    "Use your knowledge of Numpy to create two arrays: E and m , where **m** is simply 11 evenly spaced values representing 0 grams to 10 grams. E should be the equivalent energy for the mass. You will need to figure out what to provide for **c** for the units m/s, a quick google search will easily give you the answer (we'll use the close approximation in our solutions).\n"
   ]
  },
  {
   "cell_type": "code",
   "execution_count": 16,
   "id": "29cf8e92",
   "metadata": {},
   "outputs": [
    {
     "name": "stdout",
     "output_type": "stream",
     "text": [
      "[ 0.  1.  2.  3.  4.  5.  6.  7.  8.  9. 10.]\n"
     ]
    }
   ],
   "source": [
    "# CODE HERE\n",
    "\n",
    "# Defining the mass (m) values \n",
    "m = np.linspace(0, 10, 11)\n",
    "print(m)"
   ]
  },
  {
   "cell_type": "code",
   "execution_count": 11,
   "id": "e51578ae",
   "metadata": {},
   "outputs": [
    {
     "name": "stdout",
     "output_type": "stream",
     "text": [
      "The array m should look like this: \n",
      "\n",
      "[ 0.  1.  2.  3.  4.  5.  6.  7.  8.  9. 10.]\n"
     ]
    }
   ],
   "source": [
    "# DON'T WRITE HERE or RUN THE CELL"
   ]
  },
  {
   "cell_type": "code",
   "execution_count": 17,
   "id": "c9e76bde",
   "metadata": {},
   "outputs": [
    {
     "name": "stdout",
     "output_type": "stream",
     "text": [
      "Array E :\n",
      "\n",
      " [0.0e+00 9.0e+16 1.8e+17 2.7e+17 3.6e+17 4.5e+17 5.4e+17 6.3e+17 7.2e+17\n",
      " 8.1e+17 9.0e+17]\n"
     ]
    }
   ],
   "source": [
    "# CODE HERE\n",
    "\n",
    "# Defining the speed of light in meters per second (m/s)\n",
    "c = 299792458\n",
    "\n",
    "# Calculating energy using the formula E=mc^2\n",
    "E = m * c**2\n",
    "\n",
    "# Format the array to have the desired precision and scientific notation\n",
    "np.set_printoptions(precision=1, suppress=True)\n",
    "\n",
    "print('Array E :\\n\\n',E)"
   ]
  },
  {
   "cell_type": "code",
   "execution_count": 15,
   "id": "f4fa00f7",
   "metadata": {},
   "outputs": [
    {
     "name": "stdout",
     "output_type": "stream",
     "text": [
      "The array E should look like this: \n",
      "\n",
      " [0.0e+00 9.0e+16 1.8e+17 2.7e+17 3.6e+17 4.5e+17 5.4e+17 6.3e+17 7.2e+17\n",
      " 8.1e+17 9.0e+17]\n"
     ]
    }
   ],
   "source": [
    "# DON'T WRITE HERE or RUN THE CELL"
   ]
  },
  {
   "cell_type": "markdown",
   "id": "9b8b3df0",
   "metadata": {},
   "source": [
    "#### Explanation:\n",
    "\n",
    "+ Assuming the speed of light **```c```** is **299792458** meters per second, and \n",
    "+ Created an array of 11 evenly spaced values from 0 to 10 grams for the mass **```m```** using the **```np.linspace()```** function. \n",
    "+ Then used the formula **```E = mc^2```** to calculate the corresponding energy values **```E```** for each mass value **```m```** in the array.\n",
    "+ Used **```np.set_printoptions(precision=1, suppress=True)```** to set the print options to display floating point numbers with a precision of 1 decimal place, and to suppress very small values. So that the array E matches the desired output.  \n",
    " "
   ]
  },
  {
   "cell_type": "markdown",
   "id": "09912efa",
   "metadata": {},
   "source": [
    "### 14. Plot E=mc^2 (10 points)\n",
    "\n",
    "Now that we have the arrays E and m, we can plot this to see the relationship between Energy and Mass. \n",
    "\n",
    "**TASK: Import what you need from Matplotlib to plot out graphs:**"
   ]
  },
  {
   "cell_type": "code",
   "execution_count": 18,
   "id": "7fffe35a",
   "metadata": {},
   "outputs": [],
   "source": [
    "import matplotlib.pyplot as plt\n",
    "#%matplotlib inline"
   ]
  },
  {
   "cell_type": "markdown",
   "id": "22f26d68",
   "metadata": {},
   "source": [
    "**TASK: Recreate the plot shown below which maps out E=mc^2 using the arrays we created in the previous task. Note the labels, titles, color, and axis limits. You don't need to match perfectly, but you should attempt to re-create each major component.**"
   ]
  },
  {
   "cell_type": "code",
   "execution_count": 19,
   "id": "c59bdf12",
   "metadata": {},
   "outputs": [
    {
     "data": {
      "image/png": "[encoded data removed]",
      "text/plain": [
       "<Figure size 432x288 with 1 Axes>"
      ]
     },
     "metadata": {
      "needs_background": "light"
     },
     "output_type": "display_data"
    }
   ],
   "source": [
    "# CODE HERE\n",
    "plt.plot(m,E,'red',lw=5)\n",
    "\n",
    "# Set the limits for the x and y axes\n",
    "plt.xlim(0, 10)\n",
    "plt.ylim(np.max(E) * -0.05, np.max(E) * 1.05)\n",
    "\n",
    "# Labelling x aixs and y axis\n",
    "plt.xlabel('Mass in Grams')\n",
    "plt.ylabel('Energy in Joules')\n",
    "plt.title('E=mc^2') # setting the title of this plot\n",
    "\n",
    "# To display the plot\n",
    "plt.show()\n"
   ]
  },
  {
   "cell_type": "code",
   "execution_count": 23,
   "id": "74068810",
   "metadata": {},
   "outputs": [],
   "source": [
    "# DON'T RUN THE CELL BELOW< THAT WILL ERASE THE PLOT!"
   ]
  },
  {
   "cell_type": "code",
   "execution_count": 24,
   "id": "e97c2254",
   "metadata": {},
   "outputs": [
    {
     "data": {
      "image/png": "[encoded data removed]",
      "text/plain": [
       "<Figure size 432x288 with 1 Axes>"
      ]
     },
     "metadata": {
      "needs_background": "light"
     },
     "output_type": "display_data"
    }
   ],
   "source": []
  },
  {
   "cell_type": "markdown",
   "id": "b4c41a20",
   "metadata": {},
   "source": [
    "#### In this code, I used:\n",
    "+ **```plt.plot()```** function to plot m and E\n",
    "+ **```plt.xlim()```**  to set limit of  x-axis \n",
    "+ **```plt.ylim(np.max(E) * -0.05, np.max(E) * 1.05)```** to set the y limits \n",
    "  + I've set the y-limits to start from a value that is a negative offset from zero to get the desired output.\n",
    "  + The factor **-0.05** in the plt.ylim function call means that the y-axis will start from a value that is **5%** below the minimum value in the E array.\n",
    "  + to leave some room at the top right corner of the plot, got the maximun value of **```E```** and multiplied it with **1.05** \n",
    "+ **```plt.xlabel()```** and **```plt.ylabel()```** to label the x-axis and y-axis, respectively, and\n",
    "+ **```plt.title()```** to give a title to the plot\n",
    "+ **```plt.show()```** was used to display the plot"
   ]
  },
  {
   "cell_type": "markdown",
   "id": "a89bb828",
   "metadata": {
    "collapsed": true
   },
   "source": [
    "---\n",
    "---\n",
    "\n",
    "## 15. Create plots from data points (15 points)\n",
    "\n",
    "In finance, the yield curve is a curve showing several yields to maturity or interest rates across different contract lengths (2 month, 2 year, 20 year, etc. ...) for a similar debt contract. The curve shows the relation between the (level of the) interest rate (or cost of borrowing) and the time to maturity, known as the \"term\", of the debt for a given borrower in a given currency.\n",
    "\n",
    "The U.S. dollar interest rates paid on U.S. Treasury securities for various maturities are closely watched by many traders, and are commonly plotted on a graph such as the one on the right, which is informally called \"the yield curve\".\n",
    "\n",
    "**For this exercise, we will give you the data for the yield curves at two separate points in time. Then we will ask you to create some plots from this data.**\n",
    "\n",
    "## Part One: Yield Curve Data\n",
    "\n",
    "**We've obtained some yield curve data for you from the [US Treasury Dept.](https://www.treasury.gov/resource-center/data-chart-center/interest-rates/pages/textview.aspx?data=yield). The data shows the interest paid for a US Treasury bond for a certain contract length. The labels list shows the corresponding contract length per index position.**\n",
    "\n",
    "**TASK: Run the cell below to create the lists for plotting.**"
   ]
  },
  {
   "cell_type": "code",
   "execution_count": 20,
   "id": "186bfe37",
   "metadata": {},
   "outputs": [],
   "source": [
    "labels = ['1 Mo','3 Mo','6 Mo','1 Yr','2 Yr','3 Yr','5 Yr','7 Yr','10 Yr','20 Yr','30 Yr']\n",
    "\n",
    "july16_2007 =[4.75,4.98,5.08,5.01,4.89,4.89,4.95,4.99,5.05,5.21,5.14]\n",
    "july16_2020 = [0.12,0.11,0.13,0.14,0.16,0.17,0.28,0.46,0.62,1.09,1.31]"
   ]
  },
  {
   "cell_type": "markdown",
   "id": "be3ae9d8",
   "metadata": {},
   "source": [
    "**TASK: Figure out how to plot both curves on the same Figure. Add a legend to show which curve corresponds to a certain year.**"
   ]
  },
  {
   "cell_type": "code",
   "execution_count": 22,
   "id": "a9ed42ff",
   "metadata": {},
   "outputs": [
    {
     "data": {
      "image/png": "[encoded data removed]",
      "text/plain": [
       "<Figure size 432x288 with 1 Axes>"
      ]
     },
     "metadata": {
      "needs_background": "light"
     },
     "output_type": "display_data"
    }
   ],
   "source": [
    "# CODE HERE\n",
    "\n",
    "# Creating an empty canvas\n",
    "fig = plt.figure()\n",
    "ax = fig.add_axes([0,0,1,1]) # Adding set of axes to figure\n",
    "\n",
    "# Plotting on that set of axes\n",
    "ax.plot(labels, july16_2007, label ='july16_2007')\n",
    "ax.plot(labels, july16_2020, label ='july16_2020')\n",
    "ax.legend()\n",
    "plt.show()"
   ]
  },
  {
   "cell_type": "markdown",
   "id": "47b86002",
   "metadata": {},
   "source": [
    "**In this code:** \n",
    "+ First I've created a figure(an empty canvas) using **```plt.figure()```**, \n",
    "\n",
    "**then used:**\n",
    "+ **```.add_axes([0,0,1,1])```** function to creates a new set of axes that fills the entire figure.\n",
    " \n",
    "+ In the first **```ax.plot()```** line, plotting the july16_2007 curve on the axes, with the x-axis values provided by labels. The label parameter is set to july16_2007 to identify the curve for the legend.\n",
    "\n",
    "+ The second **```ax.plot()```** line does the same for the july16_2020 curve, with a label of july16_2020.\n",
    "+ Finally, **```ax.legend()```** adds a legend to the plot, with the labels for each curve automatically generated from the label parameters in the ```ax.plot``` calls.\n"
   ]
  },
  {
   "cell_type": "code",
   "execution_count": 38,
   "id": "41c12893",
   "metadata": {},
   "outputs": [],
   "source": [
    "# DONT RUN THE CELL BELOW! IT WILL ERASE THE PLOT!"
   ]
  },
  {
   "cell_type": "code",
   "execution_count": 36,
   "id": "4caf5004",
   "metadata": {},
   "outputs": [
    {
     "data": {
      "image/png": "[encoded data removed]",
      "text/plain": [
       "<Figure size 432x288 with 1 Axes>"
      ]
     },
     "metadata": {
      "needs_background": "light"
     },
     "output_type": "display_data"
    }
   ],
   "source": []
  },
  {
   "cell_type": "markdown",
   "id": "976f0bb1",
   "metadata": {},
   "source": [
    "**TASK: The legend in the plot above looks a little strange in the middle of the curves. While it is not blocking anything, it would be nicer if it were *outside* the plot. Figure out how to move the legend outside the main Figure plot.**"
   ]
  },
  {
   "cell_type": "code",
   "execution_count": 34,
   "id": "21764598",
   "metadata": {},
   "outputs": [
    {
     "data": {
      "image/png": "[encoded data removed]",
      "text/plain": [
       "<Figure size 432x288 with 1 Axes>"
      ]
     },
     "metadata": {
      "needs_background": "light"
     },
     "output_type": "display_data"
    }
   ],
   "source": [
    "# CODE HERE\n",
    "\n",
    "fig = plt.figure()\n",
    "ax = fig.add_axes([0,0,1,1])\n",
    "\n",
    "ax.plot(labels, july16_2007, label ='july16_2007')\n",
    "ax.plot(labels, july16_2020, label ='july16_2020')\n",
    "ax.legend(loc=(1.04,0.55))\n",
    "plt.show()"
   ]
  },
  {
   "cell_type": "markdown",
   "id": "92ce2012",
   "metadata": {},
   "source": [
    "#### To change the location of the legend on the plot used the **```loc```** parameter. Which specifies the location of the legend as a tuple of (x, y) coordinates. In this case I passed the values **```(1.05,0.55)```** to get the desired results."
   ]
  },
  {
   "cell_type": "code",
   "execution_count": 45,
   "id": "515dd5e9",
   "metadata": {},
   "outputs": [],
   "source": [
    "# DONT RUN THE CELL BELOW! IT WILL ERASE THE PLOT!"
   ]
  },
  {
   "cell_type": "code",
   "execution_count": 47,
   "id": "395926cc",
   "metadata": {},
   "outputs": [
    {
     "data": {
      "image/png": "[encoded data removed]",
      "text/plain": [
       "<Figure size 432x288 with 1 Axes>"
      ]
     },
     "metadata": {
      "needs_background": "light"
     },
     "output_type": "display_data"
    }
   ],
   "source": []
  }
 ],
 "metadata": {
  "kernelspec": {
   "display_name": "Python 3 (ipykernel)",
   "language": "python",
   "name": "python3"
  },
  "language_info": {
   "codemirror_mode": {
    "name": "ipython",
    "version": 3
   },
   "file_extension": ".py",
   "mimetype": "text/x-python",
   "name": "python",
   "nbconvert_exporter": "python",
   "pygments_lexer": "ipython3",
   "version": "3.9.7"
  }
 },
 "nbformat": 4,
 "nbformat_minor": 5
}
