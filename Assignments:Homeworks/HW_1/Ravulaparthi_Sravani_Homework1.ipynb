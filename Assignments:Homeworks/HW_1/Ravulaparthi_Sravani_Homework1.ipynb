{
 "cells": [
  {
   "cell_type": "markdown",
   "metadata": {},
   "source": [
    "## DATA 690 Homework 1 (50 points - Due on Sunday, February 12, 2023 by 11:59 pm ET)\n",
    "\n",
    "The output of this assignment for submission should be in PDF format **AND** .py or .ipynb. The name of the file should be as follows: Lastname_Firstname_Homework1.pdf (example: Thomas_Sunela_Homework1.pdf) **AND** Lastname_Firstname_Homework1.ipynb (example: Thomas_Sunela_Assignment1.ipynb. In short, you are submitting the python notebook as well as the pdf of that notebook. Do **NOT** submit .html file, the system will give you an error.\n",
    "\n",
    "    \n",
    "Incorrect file name will cost you points!<br>\n",
    "\n",
    "Instructions for converting a Jupyter Python notebook to PDF: Go to the menu and choose, File --> Download As --> html. Open that html file and print it to PDF. Submit the PDF file **NOT** the html file.\n",
    "\n",
    "If you are using Google Colab, remember to review the PDF before submitting to ensure that all cells and answers are displayed in the PDF.\n",
    "\n",
    "**Things to note:**\n",
    "\n",
    "* Each cell should display an output\n",
    "* Use only the basic Python concepts and methods\n",
    "* Use both Markdown and code comments in the Jupyter Notebook as needed\n"
   ]
  },
  {
   "cell_type": "markdown",
   "metadata": {},
   "source": [
    "We covered a lot of the basics of the Python programming language. Mastering the fundamentals of Python will equip you for more advanced data analysis libraries like the *Pandas* library.\n",
    "\n",
    "The goal of this activity is to start thinking about data analysis related tasks only using base Python. You will get practice using various data types, data structures, conditionals, and loops, and gain more experience writing functions."
   ]
  },
  {
   "cell_type": "markdown",
   "metadata": {},
   "source": [
    "## Clinical Trials - Sheep\n",
    "\n",
    "While working for a pharmaceutical company that specializes in medications for agriculture you were assigned to work on a project assessing the effectiveness of a new drug designed to treat tapeworms in sheep. (If the sheep have tapeworms they can't get as fat as they need to be at slaughter and it is a waste of feed.) \n",
    "\n",
    "To investigate you obtain a random sample of 25 worm-infected lambs of approximately the same age and health. Then you randomly divided the lambs into two groups. Twelve of the lambs were injected with the drug and the remaining thirteen were left untreated. After 6 months, the lambs were slaughtered and the number of worms were counted. You need to report to your boss whether the new medication has reduced the average number of tapeworms in the lambs. If so, how much?\n",
    "\n",
    "<pre>\n",
    "Treated: 18, 43, 28, 50, 16, 32, 13, 35, 38, 33, 6, 7\n",
    "Untreated: 40, 54, 26, 63, 21, 37, 39, 23, 48, 58, 28, 39, 42\n",
    "</pre>"
   ]
  },
  {
   "cell_type": "markdown",
   "metadata": {},
   "source": [
    "### Exercise 1: (2 points)\n",
    "\n",
    "<span  style=\"color:purple; font-size:16px\">Create two lists (*treated* and *untreated*) containing the data above</span>"
   ]
  },
  {
   "cell_type": "code",
   "execution_count": 1,
   "metadata": {},
   "outputs": [
    {
     "name": "stdout",
     "output_type": "stream",
     "text": [
      "List of Treated tapeworms: [18, 43, 28, 50, 16, 32, 13, 35, 38, 33, 6, 7]\n",
      "List of Untreated tapeworms: [40, 54, 26, 63, 21, 37, 39, 23, 48, 58, 28, 39, 42]\n",
      "\n",
      "Confirming the Type of Treated list : <class 'list'>\n",
      "Confirming the Type of Untreated list : <class 'list'>\n"
     ]
    }
   ],
   "source": [
    "## Exercise Answer\n",
    "\n",
    "#creating\n",
    "Treated = [18, 43, 28, 50, 16, 32, 13, 35, 38, 33, 6, 7] \n",
    "Untreated = [40, 54, 26, 63, 21, 37, 39, 23, 48, 58, 28, 39, 42] \n",
    "\n",
    "#printing\n",
    "print(f'List of Treated tapeworms: {Treated}')\n",
    "print(f'List of Untreated tapeworms: {Untreated}')\n",
    "\n",
    "#confirming\n",
    "print(f'\\nConfirming the Type of Treated list : {type(Treated)}')\n",
    "print(f'Confirming the Type of Untreated list : {type(Untreated)}')"
   ]
  },
  {
   "cell_type": "markdown",
   "metadata": {},
   "source": [
    "Created ***Treated*** and ***Untreated*** lists and also confirmed their type using the **type()** function. "
   ]
  },
  {
   "cell_type": "markdown",
   "metadata": {},
   "source": [
    "### Exercise 2: (3 points)\n",
    "<span  style=\"color:purple; font-size:16px\">Use an appropriate method to print the number of elements in each list (*treated* and *untreated*). Use fstrings to nicely print the output as a complete sentence.</span>"
   ]
  },
  {
   "cell_type": "code",
   "execution_count": 2,
   "metadata": {
    "scrolled": true
   },
   "outputs": [
    {
     "name": "stdout",
     "output_type": "stream",
     "text": [
      "\n",
      "'Treated' list has a total of 12 elements and 'Untreated' list has a total of 13 elements.\n"
     ]
    }
   ],
   "source": [
    "## Exercise Answer\n",
    "\n",
    "print(f\"\\n'Treated' list has a total of {len(Treated)} elements and 'Untreated' list has a total of {len(Untreated)} elements.\")\n"
   ]
  },
  {
   "cell_type": "markdown",
   "metadata": {},
   "source": [
    "#### Explanation:\n",
    "    \n",
    "1. Here print statement uses an f-string, as explained in our class. \n",
    "    \n",
    "2. Used ***len()*** function is  to determine the number of elements in each list, and the values are then inserted into the string using the {} syntax. \n"
   ]
  },
  {
   "cell_type": "markdown",
   "metadata": {},
   "source": [
    "### Exercise 3: (5 points)\n",
    "<span  style=\"color:purple; font-size:16px\">Create two new lists (*trt_sorted*, *untrt_sorted*) using the ```copy()``` method that are sorted versions of the original data. Print the output</span>"
   ]
  },
  {
   "cell_type": "code",
   "execution_count": 3,
   "metadata": {},
   "outputs": [
    {
     "name": "stdout",
     "output_type": "stream",
     "text": [
      " Sorted Treated list: [6, 7, 13, 16, 18, 28, 32, 33, 35, 38, 43, 50]\n",
      " Sorted Untreated list: [21, 23, 26, 28, 37, 39, 39, 40, 42, 48, 54, 58, 63]\n"
     ]
    }
   ],
   "source": [
    "## Exercise Answer\n",
    "\n",
    "#Copying treated list\n",
    "trt_sorted = Treated.copy()\n",
    "trt_sorted.sort()\n",
    "\n",
    "#Copying untreated list\n",
    "untrt_sorted = Untreated.copy()\n",
    "untrt_sorted.sort()\n",
    "\n",
    "#printing\n",
    "print(f' Sorted Treated list: {trt_sorted}')\n",
    "print(f' Sorted Untreated list: {untrt_sorted}')"
   ]
  },
  {
   "cell_type": "markdown",
   "metadata": {},
   "source": [
    "#### Explanation:\n",
    "\n",
    "+ Used the ***copy()*** method to create new lists.\n",
    "+ Then used ***sort()*** function to sort the elements in each list in ascending order. \n",
    "+ Finally, the sorted lists are printed using f-strings."
   ]
  },
  {
   "cell_type": "markdown",
   "metadata": {},
   "source": [
    "### Exercise 4: (5 points)\n",
    "<span  style=\"color:purple; font-size:16px\">Create a function called `get_nlargest()` that takes in a list as input, and an optional parameter *num* indicating how many values to return but with a default value of 3. The function should then return the *num* largest values from the list. Apply this function to *treated* with num = 4 and *untreated* with the default value. Make sure output of both lists are shown.</span>"
   ]
  },
  {
   "cell_type": "code",
   "execution_count": 4,
   "metadata": {},
   "outputs": [
    {
     "name": "stdout",
     "output_type": "stream",
     "text": [
      "\n",
      " Four largest numbers in the Treated list : [35, 38, 43, 50]\n",
      "\n",
      " Largest numbers in the Untreated list : [54, 58, 63]\n"
     ]
    }
   ],
   "source": [
    "## Exercise Answer\n",
    "\n",
    "#defining the function\n",
    "def get_nlargest(x, num=3):\n",
    "    x.sort()     \n",
    "    return x[-num: ]\n",
    "\n",
    "#printing results\n",
    "print(f'\\n Four largest numbers in the Treated list : {get_nlargest(Treated, 4)}')\n",
    "print(f'\\n Largest numbers in the Untreated list : {get_nlargest(Untreated)}')"
   ]
  },
  {
   "cell_type": "markdown",
   "metadata": {},
   "source": [
    "#### Explanation:\n",
    "\n",
    "+ Function ```get_nlargest``` takes two arguments: ***x*** and ***num***, where\n",
    "    + ***x*** = input list and \n",
    "    + ***num*** = optional parameter with a default value of 3.\n",
    "\n",
    "+ ```get_nlargest``` sorts the elements in x in ascending order using the ***sort()*** method. Then, it returns the last num elements of the list using slicing, with the syntax ***x[-num:]***\n"
   ]
  },
  {
   "cell_type": "markdown",
   "metadata": {},
   "source": [
    "### Exercise 5: (5 points)\n",
    "<span  style=\"color:purple; font-size:16px\">Create a function to calculate the median of a list. The function should have a single parameter called *input_list* and return a single float. However, the calculation of the median is slightly different depending if there are an even number of elements in the list or not. If there are an odd number of elements in the list, then the median is the middle number. If there are an even number of elements in the list, then the median is the average of the middle two numbers. Use this function to calculate the median number of tapeworms for **each group** (*treated* and *untreated*). Display the output in a good format</span>"
   ]
  },
  {
   "cell_type": "code",
   "execution_count": 6,
   "metadata": {},
   "outputs": [
    {
     "name": "stdout",
     "output_type": "stream",
     "text": [
      " The median is: 30.0 in the Treated list of tapeworms.\n",
      " The median is: 39.0 in the Untreated list of tapeworms.\n"
     ]
    }
   ],
   "source": [
    "## Exercise Answer\n",
    "\n",
    "def median(input_list):\n",
    "    half = len(input_list) // 2\n",
    "    input_list.sort()\n",
    "    if not len(input_list) % 2:\n",
    "        return float((input_list[half - 1] + input_list[half]) / 2.0)\n",
    "    return float(input_list[half])\n",
    "\n",
    "\n",
    "print(f' The median is: {median(Treated)} in the Treated list of tapeworms.')\n",
    "print(f' The median is: {median(Untreated)} in the Untreated list of tapeworms.')"
   ]
  },
  {
   "cell_type": "markdown",
   "metadata": {},
   "source": [
    "\n",
    "#### Explanation:\n",
    "\n",
    "+ The function ```median```  takes a list ***l*** as input and returns the median value of the list.\n",
    "+ First, I calculated the middle index of the list ***l*** and then sorted in ascending order using the ***sort()*** method.\n",
    "\n",
    "+ Then determined if ***l*** is even or odd. If: \n",
    "     + ***l*** is even, then median = average of the two middle values. \n",
    "     + ***l*** is odd, then median = the middle value of the list l, which is accessed using the index half. \n",
    "\n",
    "+ Finally, the function is applied to the Treated and Untreated lists and the results are printed using f-strings."
   ]
  },
  {
   "cell_type": "markdown",
   "metadata": {},
   "source": [
    "### Exercise 6: (5 points)\n",
    "<span  style=\"color:purple; font-size:16px\">Create a function `get_std()` to calculate the standard deviation in number of tapeworms for each group. The function should have a single parameter called *num_list* and return the standard deviation. This function will require the import of the math package to add the ability to calculate a square root (`math.sqrt()`). Remember to display std of both lists in a clear format in 2 decimal places.</span>\n",
    "\n",
    "The sample standard deviation $s$ of a list of numbers $x_1, x_2, x_3, ..., x_n$ with sample mean $\\bar{x}$ is defined to be:\n",
    "\n",
    "$s =  \\sqrt{\\sum_{i=1}^{n}\\frac{({x_i - \\bar{x})^2}}{n-1}}$"
   ]
  },
  {
   "cell_type": "code",
   "execution_count": 7,
   "metadata": {},
   "outputs": [
    {
     "name": "stdout",
     "output_type": "stream",
     "text": [
      " The Standard Deviation is 13.75 for the Treated list.\n",
      " The Standard Deviation is 12.76 for the Untreated list.\n"
     ]
    }
   ],
   "source": [
    "## Exercise Answer\n",
    "\n",
    "import math\n",
    "\n",
    "def get_mean(li):\n",
    "    return sum(li) / len(li)\n",
    "\n",
    "\n",
    "def get_std_dev(li):\n",
    "    n = len(li)\n",
    "    mean = get_mean(li)\n",
    "    square_list = []\n",
    "    for item in li:\n",
    "        square_list.append((item - mean) ** 2)\n",
    "    return math.sqrt(sum(square_list) / n)\n",
    "\n",
    "\n",
    "print(f' The Standard Deviation is {get_std_dev(Treated):.2f} for the Treated list.')\n",
    "print(f' The Standard Deviation is {get_std_dev(Untreated):.2f} for the Untreated list.')"
   ]
  },
  {
   "cell_type": "markdown",
   "metadata": {},
   "source": [
    "#### Explanation:\n",
    "In this code, \n",
    "\n",
    "+ ***n*** = length of the list num_list, and ***mean*** = mean of the list. \n",
    "\n",
    "+ Calculated a ```square_list``` of the input list using a ***for*** loop. \n",
    "\n",
    "+ Finally, the standard deviation is calculated as the square root of the ```square_list``` divided by ***n***. \n",
    "\n",
    "+ The function returns the standard deviation. \n",
    "\n",
    "+ The print() statements are used to display the standard deviation of the treated and untreated lists in a clear format with 2 decimal places."
   ]
  },
  {
   "cell_type": "markdown",
   "metadata": {},
   "source": [
    "### Exercise 7: (10 points)\n",
    "<span  style=\"color:purple; font-size:16px\">Create a function called `get_quartiles()` to calculate the first and third quartiles of a list. The function should accept a list called *num_list* and return a tuple with (Q1, Q3) and apply this function to *treated* and *untreated*. Add a default parameter *pretty_print* that is by default set to `False` but if `True` prints out a complete sentence with Q1 and Q3.</span>\n",
    "\n",
    "To calculate the quartiles, use the following algorithm:\n",
    "\n",
    "1. Use the median to divide the ordered data set into two halves.\n",
    "    + If there are an odd number of data points in the original ordered data set, include the median (the central value in the ordered list) in both halves.\n",
    "    + If there are an even number of data points in the original ordered data set, split this data set exactly in half.\n",
    "1. The lower quartile value is the median of the lower half of the data. The upper quartile value is the median of the upper half of the data."
   ]
  },
  {
   "cell_type": "code",
   "execution_count": 8,
   "metadata": {},
   "outputs": [
    {
     "name": "stdout",
     "output_type": "stream",
     "text": [
      " Non-Pretty print example : (14.5, 36.5)\n",
      "\n",
      " Pretty print example : \n",
      "\tThe first quartile (Q1) is 28 and the third quartile (Q3) is 48.\n"
     ]
    }
   ],
   "source": [
    "## Exercise Answer\n",
    "\n",
    "def get_quartiles(temp_list, pretty_print=False):\n",
    "    temp_list.sort()\n",
    "    n = len(temp_list)\n",
    "    if n % 2 == 0:\n",
    "        Q1 = (temp_list[n//4-1] + temp_list[n//4]) / 2\n",
    "        Q3 = (temp_list[3*n//4-1] + temp_list[3*n//4]) / 2\n",
    "    else:\n",
    "        Q1 = temp_list[n//4]\n",
    "        Q3 = temp_list[3*n//4]\n",
    "    \n",
    "    if pretty_print:    \n",
    "        return f\"\\tThe first quartile (Q1) is {Q1} and the third quartile (Q3) is {Q3}.\"\n",
    "    else:\n",
    "        return (Q1, Q3) \n",
    "\n",
    "\n",
    "print(f' Non-Pretty print example : {get_quartiles(Treated)}\\n')\n",
    "\n",
    "print(f' Pretty print example : \\n{get_quartiles(Untreated,True)}')"
   ]
  },
  {
   "cell_type": "markdown",
   "metadata": {},
   "source": [
    "#### Explanation:\n",
    "The ```get_quartiles``` function takes a list ,```temp_list``` in this case, and  ```pretty_print``` which is set to default-False as inputs. \n",
    "\n",
    "+ Calculated the length of the temp_list and stored in the variable n.\n",
    "+ If ***n*** is even, then \n",
    "    + ***Q1*** = average of the two middle numbers in the lower half of the list and \n",
    "    + ***Q3*** = average of the two middle numbers in the upper half of the list.\n",
    "+ If ***n*** is odd, then \n",
    "    + ***Q1*** = middle number in the lower half of the list and \n",
    "    + ***Q3*** = middle number in the upper half of the list.\n",
    " \n",
    "If ```pretty_print``` is set to ***True***, then the output will be printed in a complete sentence, else it will by default be a tuple. Used a second ```if/else``` statement is for that reason.\n"
   ]
  },
  {
   "cell_type": "markdown",
   "metadata": {},
   "source": [
    "### Exercise 8: (5 points)\n",
    "<span  style=\"color:purple; font-size:16px\">Create a dictionary called 'data_dict' containing the sheep experiment data. Use the string literals 'treated' and 'untreated' as the **keys** and use the lists, *treated* and *untreated*, created in Exercise 1 as the **values**. Display the dictionary</span>"
   ]
  },
  {
   "cell_type": "code",
   "execution_count": 9,
   "metadata": {},
   "outputs": [
    {
     "data": {
      "text/plain": [
       "{'Treated': [18, 43, 28, 50, 16, 32, 13, 35, 38, 33, 6, 7],\n",
       " 'Untreated': [40, 54, 26, 63, 21, 37, 39, 23, 48, 58, 28, 39, 42]}"
      ]
     },
     "execution_count": 9,
     "metadata": {},
     "output_type": "execute_result"
    }
   ],
   "source": [
    "## Exercise Answer\n",
    "\n",
    "#Creating a dictionary\n",
    "data_dict = {\n",
    "    \n",
    "    'Treated': [18, 43, 28, 50, 16, 32, 13, 35, 38, 33, 6, 7],\n",
    "    'Untreated': [40, 54, 26, 63, 21, 37, 39, 23, 48, 58, 28, 39, 42]\n",
    "}\n",
    "\n",
    "#printing\n",
    "data_dict"
   ]
  },
  {
   "cell_type": "code",
   "execution_count": 10,
   "metadata": {},
   "outputs": [
    {
     "name": "stdout",
     "output_type": "stream",
     "text": [
      "The keys in the dictionary are: Treated, Untreated\n"
     ]
    }
   ],
   "source": [
    "\n",
    "keys = data_dict.keys() #finding the keys of the dictionary\n",
    "print(\"The keys in the dictionary are: {}\".format(', '.join(keys))) #printing keys"
   ]
  },
  {
   "cell_type": "markdown",
   "metadata": {},
   "source": [
    "### Exercise 9: (10 points)\n",
    "<span  style=\"color:purple; font-size:16px\">Create a function called grader() that accepts a dictionary containing student names as keys and their midterm scores as values. Returns a dictionary with the students names as keys and a dictionary containing midterm score and letter grade as values.\n",
    "\n",
    "test_scores_dict = {'Chris':88, 'Neal':56, 'Mary':72, 'Sasha':99, 'John':91, 'Mike':87, 'Kayla': 62, 'Caylee':85}\n",
    "\n",
    "Example return for first student:\n",
    "\n",
    "test_scores_return = {'Chris':{'midterm':88, 'grade':'B}}</span>"
   ]
  },
  {
   "cell_type": "code",
   "execution_count": 11,
   "metadata": {},
   "outputs": [
    {
     "data": {
      "text/plain": [
       "{'Chris': 88,\n",
       " 'Neal': 56,\n",
       " 'Mary': 72,\n",
       " 'Sasha': 99,\n",
       " 'John': 91,\n",
       " 'Mike': 87,\n",
       " 'Kayla': 62,\n",
       " 'Caylee': 85}"
      ]
     },
     "execution_count": 11,
     "metadata": {},
     "output_type": "execute_result"
    }
   ],
   "source": [
    "## Exercise Answer\n",
    "\n",
    "test_scores_dict = {\n",
    "    'Chris':88, \n",
    "    'Neal':56, \n",
    "    'Mary':72, \n",
    "    'Sasha':99, \n",
    "    'John':91, \n",
    "    'Mike':87, \n",
    "    'Kayla': 62, \n",
    "    'Caylee':85\n",
    "}\n",
    "\n",
    "test_scores_dict"
   ]
  },
  {
   "cell_type": "code",
   "execution_count": 12,
   "metadata": {},
   "outputs": [
    {
     "data": {
      "text/plain": [
       "{'Chris': {'Midterm': 88, 'Grade': 'B'},\n",
       " 'Neal': {'Midterm': 56, 'Grade': 'F'},\n",
       " 'Mary': {'Midterm': 72, 'Grade': 'C'},\n",
       " 'Sasha': {'Midterm': 99, 'Grade': 'A'},\n",
       " 'John': {'Midterm': 91, 'Grade': 'A'},\n",
       " 'Mike': {'Midterm': 87, 'Grade': 'B'},\n",
       " 'Kayla': {'Midterm': 62, 'Grade': 'D'},\n",
       " 'Caylee': {'Midterm': 85, 'Grade': 'B'}}"
      ]
     },
     "execution_count": 12,
     "metadata": {},
     "output_type": "execute_result"
    }
   ],
   "source": [
    "#defining the function\n",
    "\n",
    "def grader(dictionary):\n",
    "    temp_dict = {} #temporary dictionary\n",
    "    for key, value in dictionary.items():\n",
    "        \n",
    "        #assigning grades\n",
    "        if value>=90:\n",
    "            grade = 'A'\n",
    "    \n",
    "        elif value>=80:\n",
    "            grade = 'B'\n",
    "    \n",
    "        elif value>=70:\n",
    "            grade = 'C'\n",
    "    \n",
    "        elif value>=60:\n",
    "            grade = 'D'\n",
    "        else:\n",
    "            grade = 'F'\n",
    "        temp_dict[key]= {'Midterm': value, 'Grade':grade} #storing results in temporary dictionary\n",
    "    return temp_dict \n",
    "\n",
    "test_scores_return = grader(test_scores_dict) #calling the function\n",
    "test_scores_return"
   ]
  },
  {
   "cell_type": "markdown",
   "metadata": {},
   "source": [
    "#### Explanation:\n",
    "+ The function ```grader``` takes dictionary as input and returns ```temp_dict```. \n",
    "+ I've used ```if/elif``` statements for different range of values, as you taught in our second class, to assign grades for students. And saved them to a temporary dictionary, which contains the names of students as ```key```. \n",
    "\n",
    "+ Finally, I called the ```grader``` function with ```test_scores_dict``` as an input, and assigned it to the final ```test_scores_return``` dictionary."
   ]
  }
 ],
 "metadata": {
  "kernelspec": {
   "display_name": "Python 3 (ipykernel)",
   "language": "python",
   "name": "python3"
  },
  "language_info": {
   "codemirror_mode": {
    "name": "ipython",
    "version": 3
   },
   "file_extension": ".py",
   "mimetype": "text/x-python",
   "name": "python",
   "nbconvert_exporter": "python",
   "pygments_lexer": "ipython3",
   "version": "3.9.7"
  },
  "toc": {
   "base_numbering": 1,
   "nav_menu": {},
   "number_sections": false,
   "sideBar": false,
   "skip_h1_title": false,
   "title_cell": "Table of Contents",
   "title_sidebar": "Contents",
   "toc_cell": false,
   "toc_position": {},
   "toc_section_display": false,
   "toc_window_display": false
  }
 },
 "nbformat": 4,
 "nbformat_minor": 2
}
