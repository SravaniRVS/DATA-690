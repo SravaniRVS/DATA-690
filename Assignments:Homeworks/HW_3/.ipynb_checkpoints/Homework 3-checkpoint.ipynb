{
 "cells": [
  {
   "cell_type": "markdown",
   "id": "4f10c40d",
   "metadata": {},
   "source": [
    "## DATA 690 Homework 3 (50 points - Due on Sunday, March 5, 2023 by 11:59 pm ET)\n",
    "\n",
    "The output of this assignment for submission should be in PDF format **AND** .py or .ipynb. The name of the file should be as follows: Lastname_Firstname_Homework3.pdf (example: Thomas_Sunela_Homework3.pdf) **AND** Lastname_Firstname_Homework3.ipynb (example: Thomas_Sunela_Assignment3.ipynb. In short, you are submitting the python notebook as well as the pdf of that notebook. Do **NOT** submit .html file, the system will give you an error.\n",
    "\n",
    "    \n",
    "Incorrect file name will cost you points!<br>\n",
    "\n",
    "Instructions for converting a Jupyter Python notebook to PDF: Go to the menu and choose, File --> Download As --> html. Open that html file and print it to PDF. Submit the PDF file **NOT** the html file.\n",
    "\n",
    "If you are using Google Colab, remember to review the PDF before submitting to ensure that all cells and answers are displayed in the PDF.\n",
    "\n",
    "**Things to note:**\n",
    "\n",
    "* Each cell should display an output\n",
    "* Use both Markdown and code comments in the Jupyter Notebook as needed\n",
    "\n",
    "### IF YOU ARE MAKING ANY ASSUMPTIONS, WRITE THAT IN A MARKDOWN CELL OR COMMENT\n",
    "### $\\color{red}{\\text{Answer the questions asked as well, not just code}}$\n",
    "\n"
   ]
  },
  {
   "cell_type": "markdown",
   "id": "421dce34",
   "metadata": {},
   "source": [
    "We will be using the SF Salaries dataset from Kaggle! The dataset is provided to you in Blackboard. "
   ]
  },
  {
   "cell_type": "markdown",
   "id": "a90eb719",
   "metadata": {},
   "source": [
    "**#1 Import pandas as pd**"
   ]
  },
  {
   "cell_type": "code",
   "execution_count": null,
   "id": "b06fb0e7",
   "metadata": {},
   "outputs": [],
   "source": []
  },
  {
   "cell_type": "markdown",
   "id": "00548917",
   "metadata": {},
   "source": [
    "**#2 Read Salaries.csv as a dataframe called sal**"
   ]
  },
  {
   "cell_type": "code",
   "execution_count": null,
   "id": "0f0d2f9d",
   "metadata": {},
   "outputs": [],
   "source": []
  },
  {
   "cell_type": "markdown",
   "id": "7eaff597",
   "metadata": {},
   "source": [
    "**#3 Check the head of the DataFrame. Is there anything unique? What can you tell about the data?** (5 points)"
   ]
  },
  {
   "cell_type": "code",
   "execution_count": null,
   "id": "676e09f3",
   "metadata": {},
   "outputs": [],
   "source": []
  },
  {
   "cell_type": "markdown",
   "id": "d3d69c9a",
   "metadata": {},
   "source": [
    "Written Answer:"
   ]
  },
  {
   "cell_type": "markdown",
   "id": "c2b71d63",
   "metadata": {},
   "source": [
    "**#4 Use the .info() method to find out how many entries there are. Can you tell anything more about the data?** (3 points)"
   ]
  },
  {
   "cell_type": "code",
   "execution_count": null,
   "id": "b023cb5b",
   "metadata": {},
   "outputs": [],
   "source": []
  },
  {
   "cell_type": "markdown",
   "id": "7d3ac170",
   "metadata": {},
   "source": [
    "Written Answer:"
   ]
  },
  {
   "cell_type": "markdown",
   "id": "68ce8c48",
   "metadata": {},
   "source": [
    "**#5 What is the average BasePay?** (3 points)"
   ]
  },
  {
   "cell_type": "code",
   "execution_count": null,
   "id": "b615d4f9",
   "metadata": {},
   "outputs": [],
   "source": []
  },
  {
   "cell_type": "markdown",
   "id": "70e5082c",
   "metadata": {},
   "source": [
    "**#6 What is the highest amount of OvertimePay in the dataset?** (3 points)"
   ]
  },
  {
   "cell_type": "code",
   "execution_count": null,
   "id": "601ffdab",
   "metadata": {},
   "outputs": [],
   "source": []
  },
  {
   "cell_type": "markdown",
   "id": "e3532feb",
   "metadata": {},
   "source": [
    "**#7 What is the job title of JOSEPH DRISCOLL?** (4 points)"
   ]
  },
  {
   "cell_type": "code",
   "execution_count": null,
   "id": "41ab49a4",
   "metadata": {},
   "outputs": [],
   "source": []
  },
  {
   "cell_type": "markdown",
   "id": "b1c95692",
   "metadata": {},
   "source": [
    "**#8 How much does JOSEPH DRISCOLL make (including benefits)?** (4 points)"
   ]
  },
  {
   "cell_type": "code",
   "execution_count": null,
   "id": "afc819a1",
   "metadata": {},
   "outputs": [],
   "source": []
  },
  {
   "cell_type": "markdown",
   "id": "79b3f121",
   "metadata": {},
   "source": [
    "**#9 What is the name of highest paid person (including benefits)?** (3 points)"
   ]
  },
  {
   "cell_type": "code",
   "execution_count": null,
   "id": "faf350a8",
   "metadata": {},
   "outputs": [],
   "source": []
  },
  {
   "cell_type": "markdown",
   "id": "acce9c37",
   "metadata": {},
   "source": [
    "**#10 What is the name of lowest paid person (including benefits)? Do you notice something strange about how much he or she is paid?** (5 points)"
   ]
  },
  {
   "cell_type": "code",
   "execution_count": null,
   "id": "7ba1662e",
   "metadata": {},
   "outputs": [],
   "source": []
  },
  {
   "cell_type": "markdown",
   "id": "62a251b0",
   "metadata": {},
   "source": [
    "Written Answer:"
   ]
  },
  {
   "cell_type": "markdown",
   "id": "4e463c5b",
   "metadata": {},
   "source": [
    "**#11 What was the average (mean) BasePay of all employees in 2011?** (5 points)"
   ]
  },
  {
   "cell_type": "code",
   "execution_count": null,
   "id": "917f763e",
   "metadata": {},
   "outputs": [],
   "source": []
  },
  {
   "cell_type": "markdown",
   "id": "c1e08ffe",
   "metadata": {},
   "source": [
    "**#12 How many unique job titles are there?** (5 points)"
   ]
  },
  {
   "cell_type": "code",
   "execution_count": null,
   "id": "2cf679dd",
   "metadata": {},
   "outputs": [],
   "source": []
  },
  {
   "cell_type": "markdown",
   "id": "023e794f",
   "metadata": {},
   "source": [
    "**#13 What are the top 5 most common jobs?** (5 points)"
   ]
  },
  {
   "cell_type": "code",
   "execution_count": null,
   "id": "4c5736c8",
   "metadata": {},
   "outputs": [],
   "source": []
  },
  {
   "cell_type": "markdown",
   "id": "e45ba805",
   "metadata": {},
   "source": [
    "**#14 How many Job Titles were represented by only one person in 2013? (e.g. Job Titles with only one occurence in 2013?)** (5 points)"
   ]
  },
  {
   "cell_type": "code",
   "execution_count": null,
   "id": "d1f7457e",
   "metadata": {},
   "outputs": [],
   "source": []
  },
  {
   "cell_type": "code",
   "execution_count": null,
   "id": "7338ffbe",
   "metadata": {},
   "outputs": [],
   "source": []
  }
 ],
 "metadata": {
  "kernelspec": {
   "display_name": "Python 3 (ipykernel)",
   "language": "python",
   "name": "python3"
  },
  "language_info": {
   "codemirror_mode": {
    "name": "ipython",
    "version": 3
   },
   "file_extension": ".py",
   "mimetype": "text/x-python",
   "name": "python",
   "nbconvert_exporter": "python",
   "pygments_lexer": "ipython3",
   "version": "3.9.7"
  }
 },
 "nbformat": 4,
 "nbformat_minor": 5
}
