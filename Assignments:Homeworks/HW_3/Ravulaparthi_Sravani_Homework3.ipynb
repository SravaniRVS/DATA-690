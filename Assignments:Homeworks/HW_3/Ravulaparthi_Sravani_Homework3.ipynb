{
 "cells": [
  {
   "cell_type": "markdown",
   "id": "4f10c40d",
   "metadata": {},
   "source": [
    "## DATA 690 Homework 3 (50 points - Due on Sunday, March 5, 2023 by 11:59 pm ET)\n",
    "\n",
    "The output of this assignment for submission should be in PDF format **AND** .py or .ipynb. The name of the file should be as follows: Lastname_Firstname_Homework3.pdf (example: Thomas_Sunela_Homework3.pdf) **AND** Lastname_Firstname_Homework3.ipynb (example: Thomas_Sunela_Assignment3.ipynb. In short, you are submitting the python notebook as well as the pdf of that notebook. Do **NOT** submit .html file, the system will give you an error.\n",
    "\n",
    "    \n",
    "Incorrect file name will cost you points!<br>\n",
    "\n",
    "Instructions for converting a Jupyter Python notebook to PDF: Go to the menu and choose, File --> Download As --> html. Open that html file and print it to PDF. Submit the PDF file **NOT** the html file.\n",
    "\n",
    "If you are using Google Colab, remember to review the PDF before submitting to ensure that all cells and answers are displayed in the PDF.\n",
    "\n",
    "**Things to note:**\n",
    "\n",
    "* Each cell should display an output\n",
    "* Use both Markdown and code comments in the Jupyter Notebook as needed\n",
    "\n",
    "### IF YOU ARE MAKING ANY ASSUMPTIONS, WRITE THAT IN A MARKDOWN CELL OR COMMENT\n",
    "### $\\color{red}{\\text{Answer the questions asked as well, not just code}}$\n",
    "\n"
   ]
  },
  {
   "cell_type": "markdown",
   "id": "421dce34",
   "metadata": {},
   "source": [
    "We will be using the SF Salaries dataset from Kaggle! The dataset is provided to you in Blackboard. "
   ]
  },
  {
   "cell_type": "markdown",
   "id": "a90eb719",
   "metadata": {},
   "source": [
    "**#1 Import pandas as pd**"
   ]
  },
  {
   "cell_type": "code",
   "execution_count": 1,
   "id": "b06fb0e7",
   "metadata": {},
   "outputs": [],
   "source": [
    "import pandas as pd"
   ]
  },
  {
   "cell_type": "markdown",
   "id": "00548917",
   "metadata": {},
   "source": [
    "**#2 Read Salaries.csv as a dataframe called sal**"
   ]
  },
  {
   "cell_type": "code",
   "execution_count": 2,
   "id": "0f0d2f9d",
   "metadata": {},
   "outputs": [
    {
     "name": "stderr",
     "output_type": "stream",
     "text": [
      "/Users/sravaniravulaparthi/opt/anaconda3/lib/python3.9/site-packages/IPython/core/interactiveshell.py:3444: DtypeWarning: Columns (12) have mixed types.Specify dtype option on import or set low_memory=False.\n",
      "  exec(code_obj, self.user_global_ns, self.user_ns)\n"
     ]
    },
    {
     "data": {
      "text/html": [
       "<div>\n",
       "<style scoped>\n",
       "    .dataframe tbody tr th:only-of-type {\n",
       "        vertical-align: middle;\n",
       "    }\n",
       "\n",
       "    .dataframe tbody tr th {\n",
       "        vertical-align: top;\n",
       "    }\n",
       "\n",
       "    .dataframe thead th {\n",
       "        text-align: right;\n",
       "    }\n",
       "</style>\n",
       "<table border=\"1\" class=\"dataframe\">\n",
       "  <thead>\n",
       "    <tr style=\"text-align: right;\">\n",
       "      <th></th>\n",
       "      <th>Id</th>\n",
       "      <th>EmployeeName</th>\n",
       "      <th>JobTitle</th>\n",
       "      <th>BasePay</th>\n",
       "      <th>OvertimePay</th>\n",
       "      <th>OtherPay</th>\n",
       "      <th>Benefits</th>\n",
       "      <th>TotalPay</th>\n",
       "      <th>TotalPayBenefits</th>\n",
       "      <th>Year</th>\n",
       "      <th>Notes</th>\n",
       "      <th>Agency</th>\n",
       "      <th>Status</th>\n",
       "    </tr>\n",
       "  </thead>\n",
       "  <tbody>\n",
       "    <tr>\n",
       "      <th>0</th>\n",
       "      <td>1</td>\n",
       "      <td>NATHANIEL FORD</td>\n",
       "      <td>GENERAL MANAGER-METROPOLITAN TRANSIT AUTHORITY</td>\n",
       "      <td>167411.18</td>\n",
       "      <td>0.00</td>\n",
       "      <td>400184.25</td>\n",
       "      <td>NaN</td>\n",
       "      <td>567595.43</td>\n",
       "      <td>567595.43</td>\n",
       "      <td>2011</td>\n",
       "      <td>NaN</td>\n",
       "      <td>San Francisco</td>\n",
       "      <td>NaN</td>\n",
       "    </tr>\n",
       "    <tr>\n",
       "      <th>1</th>\n",
       "      <td>2</td>\n",
       "      <td>GARY JIMENEZ</td>\n",
       "      <td>CAPTAIN III (POLICE DEPARTMENT)</td>\n",
       "      <td>155966.02</td>\n",
       "      <td>245131.88</td>\n",
       "      <td>137811.38</td>\n",
       "      <td>NaN</td>\n",
       "      <td>538909.28</td>\n",
       "      <td>538909.28</td>\n",
       "      <td>2011</td>\n",
       "      <td>NaN</td>\n",
       "      <td>San Francisco</td>\n",
       "      <td>NaN</td>\n",
       "    </tr>\n",
       "    <tr>\n",
       "      <th>2</th>\n",
       "      <td>3</td>\n",
       "      <td>ALBERT PARDINI</td>\n",
       "      <td>CAPTAIN III (POLICE DEPARTMENT)</td>\n",
       "      <td>212739.13</td>\n",
       "      <td>106088.18</td>\n",
       "      <td>16452.60</td>\n",
       "      <td>NaN</td>\n",
       "      <td>335279.91</td>\n",
       "      <td>335279.91</td>\n",
       "      <td>2011</td>\n",
       "      <td>NaN</td>\n",
       "      <td>San Francisco</td>\n",
       "      <td>NaN</td>\n",
       "    </tr>\n",
       "    <tr>\n",
       "      <th>3</th>\n",
       "      <td>4</td>\n",
       "      <td>CHRISTOPHER CHONG</td>\n",
       "      <td>WIRE ROPE CABLE MAINTENANCE MECHANIC</td>\n",
       "      <td>77916.00</td>\n",
       "      <td>56120.71</td>\n",
       "      <td>198306.90</td>\n",
       "      <td>NaN</td>\n",
       "      <td>332343.61</td>\n",
       "      <td>332343.61</td>\n",
       "      <td>2011</td>\n",
       "      <td>NaN</td>\n",
       "      <td>San Francisco</td>\n",
       "      <td>NaN</td>\n",
       "    </tr>\n",
       "    <tr>\n",
       "      <th>4</th>\n",
       "      <td>5</td>\n",
       "      <td>PATRICK GARDNER</td>\n",
       "      <td>DEPUTY CHIEF OF DEPARTMENT,(FIRE DEPARTMENT)</td>\n",
       "      <td>134401.60</td>\n",
       "      <td>9737.00</td>\n",
       "      <td>182234.59</td>\n",
       "      <td>NaN</td>\n",
       "      <td>326373.19</td>\n",
       "      <td>326373.19</td>\n",
       "      <td>2011</td>\n",
       "      <td>NaN</td>\n",
       "      <td>San Francisco</td>\n",
       "      <td>NaN</td>\n",
       "    </tr>\n",
       "    <tr>\n",
       "      <th>...</th>\n",
       "      <td>...</td>\n",
       "      <td>...</td>\n",
       "      <td>...</td>\n",
       "      <td>...</td>\n",
       "      <td>...</td>\n",
       "      <td>...</td>\n",
       "      <td>...</td>\n",
       "      <td>...</td>\n",
       "      <td>...</td>\n",
       "      <td>...</td>\n",
       "      <td>...</td>\n",
       "      <td>...</td>\n",
       "      <td>...</td>\n",
       "    </tr>\n",
       "    <tr>\n",
       "      <th>148645</th>\n",
       "      <td>148646</td>\n",
       "      <td>Carolyn A Wilson</td>\n",
       "      <td>Human Services Technician</td>\n",
       "      <td>0.00</td>\n",
       "      <td>0.00</td>\n",
       "      <td>0.00</td>\n",
       "      <td>0.0</td>\n",
       "      <td>0.00</td>\n",
       "      <td>0.00</td>\n",
       "      <td>2014</td>\n",
       "      <td>NaN</td>\n",
       "      <td>San Francisco</td>\n",
       "      <td>PT</td>\n",
       "    </tr>\n",
       "    <tr>\n",
       "      <th>148646</th>\n",
       "      <td>148648</td>\n",
       "      <td>Joann Anderson</td>\n",
       "      <td>Communications Dispatcher 2</td>\n",
       "      <td>0.00</td>\n",
       "      <td>0.00</td>\n",
       "      <td>0.00</td>\n",
       "      <td>0.0</td>\n",
       "      <td>0.00</td>\n",
       "      <td>0.00</td>\n",
       "      <td>2014</td>\n",
       "      <td>NaN</td>\n",
       "      <td>San Francisco</td>\n",
       "      <td>PT</td>\n",
       "    </tr>\n",
       "    <tr>\n",
       "      <th>148647</th>\n",
       "      <td>148649</td>\n",
       "      <td>Leon Walker</td>\n",
       "      <td>Custodian</td>\n",
       "      <td>0.00</td>\n",
       "      <td>0.00</td>\n",
       "      <td>0.00</td>\n",
       "      <td>0.0</td>\n",
       "      <td>0.00</td>\n",
       "      <td>0.00</td>\n",
       "      <td>2014</td>\n",
       "      <td>NaN</td>\n",
       "      <td>San Francisco</td>\n",
       "      <td>PT</td>\n",
       "    </tr>\n",
       "    <tr>\n",
       "      <th>148648</th>\n",
       "      <td>148650</td>\n",
       "      <td>Roy I Tillery</td>\n",
       "      <td>Custodian</td>\n",
       "      <td>0.00</td>\n",
       "      <td>0.00</td>\n",
       "      <td>0.00</td>\n",
       "      <td>0.0</td>\n",
       "      <td>0.00</td>\n",
       "      <td>0.00</td>\n",
       "      <td>2014</td>\n",
       "      <td>NaN</td>\n",
       "      <td>San Francisco</td>\n",
       "      <td>PT</td>\n",
       "    </tr>\n",
       "    <tr>\n",
       "      <th>148649</th>\n",
       "      <td>148654</td>\n",
       "      <td>Joe Lopez</td>\n",
       "      <td>Counselor, Log Cabin Ranch</td>\n",
       "      <td>0.00</td>\n",
       "      <td>0.00</td>\n",
       "      <td>-618.13</td>\n",
       "      <td>0.0</td>\n",
       "      <td>-618.13</td>\n",
       "      <td>-618.13</td>\n",
       "      <td>2014</td>\n",
       "      <td>NaN</td>\n",
       "      <td>San Francisco</td>\n",
       "      <td>PT</td>\n",
       "    </tr>\n",
       "  </tbody>\n",
       "</table>\n",
       "<p>148650 rows × 13 columns</p>\n",
       "</div>"
      ],
      "text/plain": [
       "            Id       EmployeeName  \\\n",
       "0            1     NATHANIEL FORD   \n",
       "1            2       GARY JIMENEZ   \n",
       "2            3     ALBERT PARDINI   \n",
       "3            4  CHRISTOPHER CHONG   \n",
       "4            5    PATRICK GARDNER   \n",
       "...        ...                ...   \n",
       "148645  148646   Carolyn A Wilson   \n",
       "148646  148648     Joann Anderson   \n",
       "148647  148649        Leon Walker   \n",
       "148648  148650      Roy I Tillery   \n",
       "148649  148654          Joe Lopez   \n",
       "\n",
       "                                              JobTitle    BasePay  \\\n",
       "0       GENERAL MANAGER-METROPOLITAN TRANSIT AUTHORITY  167411.18   \n",
       "1                      CAPTAIN III (POLICE DEPARTMENT)  155966.02   \n",
       "2                      CAPTAIN III (POLICE DEPARTMENT)  212739.13   \n",
       "3                 WIRE ROPE CABLE MAINTENANCE MECHANIC   77916.00   \n",
       "4         DEPUTY CHIEF OF DEPARTMENT,(FIRE DEPARTMENT)  134401.60   \n",
       "...                                                ...        ...   \n",
       "148645                       Human Services Technician       0.00   \n",
       "148646                     Communications Dispatcher 2       0.00   \n",
       "148647                                       Custodian       0.00   \n",
       "148648                                       Custodian       0.00   \n",
       "148649                      Counselor, Log Cabin Ranch       0.00   \n",
       "\n",
       "        OvertimePay   OtherPay  Benefits   TotalPay  TotalPayBenefits  Year  \\\n",
       "0              0.00  400184.25       NaN  567595.43         567595.43  2011   \n",
       "1         245131.88  137811.38       NaN  538909.28         538909.28  2011   \n",
       "2         106088.18   16452.60       NaN  335279.91         335279.91  2011   \n",
       "3          56120.71  198306.90       NaN  332343.61         332343.61  2011   \n",
       "4           9737.00  182234.59       NaN  326373.19         326373.19  2011   \n",
       "...             ...        ...       ...        ...               ...   ...   \n",
       "148645         0.00       0.00       0.0       0.00              0.00  2014   \n",
       "148646         0.00       0.00       0.0       0.00              0.00  2014   \n",
       "148647         0.00       0.00       0.0       0.00              0.00  2014   \n",
       "148648         0.00       0.00       0.0       0.00              0.00  2014   \n",
       "148649         0.00    -618.13       0.0    -618.13           -618.13  2014   \n",
       "\n",
       "        Notes         Agency Status  \n",
       "0         NaN  San Francisco    NaN  \n",
       "1         NaN  San Francisco    NaN  \n",
       "2         NaN  San Francisco    NaN  \n",
       "3         NaN  San Francisco    NaN  \n",
       "4         NaN  San Francisco    NaN  \n",
       "...       ...            ...    ...  \n",
       "148645    NaN  San Francisco     PT  \n",
       "148646    NaN  San Francisco     PT  \n",
       "148647    NaN  San Francisco     PT  \n",
       "148648    NaN  San Francisco     PT  \n",
       "148649    NaN  San Francisco     PT  \n",
       "\n",
       "[148650 rows x 13 columns]"
      ]
     },
     "execution_count": 2,
     "metadata": {},
     "output_type": "execute_result"
    }
   ],
   "source": [
    "sal = pd.read_csv('https://raw.githubusercontent.com/SravaniRVS/DATA-690/main/Assignments%3AHomeworks/HW_3/Salaries.csv')\n",
    "sal"
   ]
  },
  {
   "cell_type": "markdown",
   "id": "7eaff597",
   "metadata": {},
   "source": [
    "**#3 Check the head of the DataFrame. Is there anything unique? What can you tell about the data?** (5 points)"
   ]
  },
  {
   "cell_type": "code",
   "execution_count": 3,
   "id": "676e09f3",
   "metadata": {},
   "outputs": [
    {
     "data": {
      "text/html": [
       "<div>\n",
       "<style scoped>\n",
       "    .dataframe tbody tr th:only-of-type {\n",
       "        vertical-align: middle;\n",
       "    }\n",
       "\n",
       "    .dataframe tbody tr th {\n",
       "        vertical-align: top;\n",
       "    }\n",
       "\n",
       "    .dataframe thead th {\n",
       "        text-align: right;\n",
       "    }\n",
       "</style>\n",
       "<table border=\"1\" class=\"dataframe\">\n",
       "  <thead>\n",
       "    <tr style=\"text-align: right;\">\n",
       "      <th></th>\n",
       "      <th>Id</th>\n",
       "      <th>EmployeeName</th>\n",
       "      <th>JobTitle</th>\n",
       "      <th>BasePay</th>\n",
       "      <th>OvertimePay</th>\n",
       "      <th>OtherPay</th>\n",
       "      <th>Benefits</th>\n",
       "      <th>TotalPay</th>\n",
       "      <th>TotalPayBenefits</th>\n",
       "      <th>Year</th>\n",
       "      <th>Notes</th>\n",
       "      <th>Agency</th>\n",
       "      <th>Status</th>\n",
       "    </tr>\n",
       "  </thead>\n",
       "  <tbody>\n",
       "    <tr>\n",
       "      <th>0</th>\n",
       "      <td>1</td>\n",
       "      <td>NATHANIEL FORD</td>\n",
       "      <td>GENERAL MANAGER-METROPOLITAN TRANSIT AUTHORITY</td>\n",
       "      <td>167411.18</td>\n",
       "      <td>0.00</td>\n",
       "      <td>400184.25</td>\n",
       "      <td>NaN</td>\n",
       "      <td>567595.43</td>\n",
       "      <td>567595.43</td>\n",
       "      <td>2011</td>\n",
       "      <td>NaN</td>\n",
       "      <td>San Francisco</td>\n",
       "      <td>NaN</td>\n",
       "    </tr>\n",
       "    <tr>\n",
       "      <th>1</th>\n",
       "      <td>2</td>\n",
       "      <td>GARY JIMENEZ</td>\n",
       "      <td>CAPTAIN III (POLICE DEPARTMENT)</td>\n",
       "      <td>155966.02</td>\n",
       "      <td>245131.88</td>\n",
       "      <td>137811.38</td>\n",
       "      <td>NaN</td>\n",
       "      <td>538909.28</td>\n",
       "      <td>538909.28</td>\n",
       "      <td>2011</td>\n",
       "      <td>NaN</td>\n",
       "      <td>San Francisco</td>\n",
       "      <td>NaN</td>\n",
       "    </tr>\n",
       "    <tr>\n",
       "      <th>2</th>\n",
       "      <td>3</td>\n",
       "      <td>ALBERT PARDINI</td>\n",
       "      <td>CAPTAIN III (POLICE DEPARTMENT)</td>\n",
       "      <td>212739.13</td>\n",
       "      <td>106088.18</td>\n",
       "      <td>16452.60</td>\n",
       "      <td>NaN</td>\n",
       "      <td>335279.91</td>\n",
       "      <td>335279.91</td>\n",
       "      <td>2011</td>\n",
       "      <td>NaN</td>\n",
       "      <td>San Francisco</td>\n",
       "      <td>NaN</td>\n",
       "    </tr>\n",
       "    <tr>\n",
       "      <th>3</th>\n",
       "      <td>4</td>\n",
       "      <td>CHRISTOPHER CHONG</td>\n",
       "      <td>WIRE ROPE CABLE MAINTENANCE MECHANIC</td>\n",
       "      <td>77916.00</td>\n",
       "      <td>56120.71</td>\n",
       "      <td>198306.90</td>\n",
       "      <td>NaN</td>\n",
       "      <td>332343.61</td>\n",
       "      <td>332343.61</td>\n",
       "      <td>2011</td>\n",
       "      <td>NaN</td>\n",
       "      <td>San Francisco</td>\n",
       "      <td>NaN</td>\n",
       "    </tr>\n",
       "    <tr>\n",
       "      <th>4</th>\n",
       "      <td>5</td>\n",
       "      <td>PATRICK GARDNER</td>\n",
       "      <td>DEPUTY CHIEF OF DEPARTMENT,(FIRE DEPARTMENT)</td>\n",
       "      <td>134401.60</td>\n",
       "      <td>9737.00</td>\n",
       "      <td>182234.59</td>\n",
       "      <td>NaN</td>\n",
       "      <td>326373.19</td>\n",
       "      <td>326373.19</td>\n",
       "      <td>2011</td>\n",
       "      <td>NaN</td>\n",
       "      <td>San Francisco</td>\n",
       "      <td>NaN</td>\n",
       "    </tr>\n",
       "  </tbody>\n",
       "</table>\n",
       "</div>"
      ],
      "text/plain": [
       "   Id       EmployeeName                                        JobTitle  \\\n",
       "0   1     NATHANIEL FORD  GENERAL MANAGER-METROPOLITAN TRANSIT AUTHORITY   \n",
       "1   2       GARY JIMENEZ                 CAPTAIN III (POLICE DEPARTMENT)   \n",
       "2   3     ALBERT PARDINI                 CAPTAIN III (POLICE DEPARTMENT)   \n",
       "3   4  CHRISTOPHER CHONG            WIRE ROPE CABLE MAINTENANCE MECHANIC   \n",
       "4   5    PATRICK GARDNER    DEPUTY CHIEF OF DEPARTMENT,(FIRE DEPARTMENT)   \n",
       "\n",
       "     BasePay  OvertimePay   OtherPay  Benefits   TotalPay  TotalPayBenefits  \\\n",
       "0  167411.18         0.00  400184.25       NaN  567595.43         567595.43   \n",
       "1  155966.02    245131.88  137811.38       NaN  538909.28         538909.28   \n",
       "2  212739.13    106088.18   16452.60       NaN  335279.91         335279.91   \n",
       "3   77916.00     56120.71  198306.90       NaN  332343.61         332343.61   \n",
       "4  134401.60      9737.00  182234.59       NaN  326373.19         326373.19   \n",
       "\n",
       "   Year  Notes         Agency Status  \n",
       "0  2011    NaN  San Francisco    NaN  \n",
       "1  2011    NaN  San Francisco    NaN  \n",
       "2  2011    NaN  San Francisco    NaN  \n",
       "3  2011    NaN  San Francisco    NaN  \n",
       "4  2011    NaN  San Francisco    NaN  "
      ]
     },
     "execution_count": 3,
     "metadata": {},
     "output_type": "execute_result"
    }
   ],
   "source": [
    "sal.head()"
   ]
  },
  {
   "cell_type": "markdown",
   "id": "d3d69c9a",
   "metadata": {},
   "source": [
    "#### Written Answer:\n",
    "\n",
    "+ We already know that the dataframe contains information about the salaries of employees in the San Francisco area\n",
    "+ Each row represents a different employee, and the columns provide information about each employee, such as their name, job title, and salary etc...\n",
    "+ As we can see the dataset contains some missing values, indicated by the **```NaN```** values in some columns\n",
    "+ In my opinion the **```Benefits```** column contains information about the benefits provided to each employee, such as healthcare or retirement benefits\n",
    "+ The **```TotalPay```** column represents the sum of an employee's **```BasePay```**, **```OvertimePay```**, and **```OtherPay```**\n",
    "+ The **```TotalPayBenefits```** column represents the sum of an employee's **```TotalPay```** and **```Benefits```**"
   ]
  },
  {
   "cell_type": "markdown",
   "id": "c2b71d63",
   "metadata": {},
   "source": [
    "**#4 Use the .info() method to find out how many entries there are. Can you tell anything more about the data?** (3 points)"
   ]
  },
  {
   "cell_type": "code",
   "execution_count": 4,
   "id": "b023cb5b",
   "metadata": {},
   "outputs": [
    {
     "name": "stdout",
     "output_type": "stream",
     "text": [
      "<class 'pandas.core.frame.DataFrame'>\n",
      "RangeIndex: 148650 entries, 0 to 148649\n",
      "Data columns (total 13 columns):\n",
      " #   Column            Non-Null Count   Dtype  \n",
      "---  ------            --------------   -----  \n",
      " 0   Id                148650 non-null  int64  \n",
      " 1   EmployeeName      148650 non-null  object \n",
      " 2   JobTitle          148650 non-null  object \n",
      " 3   BasePay           148045 non-null  float64\n",
      " 4   OvertimePay       148650 non-null  float64\n",
      " 5   OtherPay          148650 non-null  float64\n",
      " 6   Benefits          112491 non-null  float64\n",
      " 7   TotalPay          148650 non-null  float64\n",
      " 8   TotalPayBenefits  148650 non-null  float64\n",
      " 9   Year              148650 non-null  int64  \n",
      " 10  Notes             0 non-null       float64\n",
      " 11  Agency            148650 non-null  object \n",
      " 12  Status            38119 non-null   object \n",
      "dtypes: float64(7), int64(2), object(4)\n",
      "memory usage: 14.7+ MB\n"
     ]
    }
   ],
   "source": [
    "sal.info()"
   ]
  },
  {
   "cell_type": "markdown",
   "id": "7d3ac170",
   "metadata": {},
   "source": [
    "#### Written Answer:\n",
    "\n",
    "+ As indicated by the RangeIndex, the dataframe contains **148,654** entries\n",
    "+ There are 13 columns in the dataframe, with a mix of numerical and non-numerical data types\n",
    "+ Some columns contain missing values, as indicated by the difference between the Non-Null Count and the total number of entries in the dataframe\n",
    "    + In particular, the **```Benefits```** and **```Status```** columns contain a relatively large number of missing values.\n",
    "+ The **```Notes```** column appears to contain entirely missing values and I think it can be dropped from the dataframe\n",
    "+ The **```EmployeeName```** and **```JobTitle```** columns contain non-numeric data types \n",
    "+ The **```BasePay```**, **```OvertimePay```**, **```OtherPay```**, **```Benefits```**, **```TotalPay```**, and **```TotalPayBenefits```** columns are all represented as floating-point numbers (float64 data type)\n",
    "+ The **```Status```** column also contains a relatively large number of missing values"
   ]
  },
  {
   "cell_type": "markdown",
   "id": "68ce8c48",
   "metadata": {},
   "source": [
    "**#5 What is the average BasePay?** (3 points)"
   ]
  },
  {
   "cell_type": "code",
   "execution_count": 5,
   "id": "b615d4f9",
   "metadata": {},
   "outputs": [
    {
     "data": {
      "text/plain": [
       "66325.45"
      ]
     },
     "execution_count": 5,
     "metadata": {},
     "output_type": "execute_result"
    }
   ],
   "source": [
    "round(sal['BasePay'].mean(),2)"
   ]
  },
  {
   "cell_type": "markdown",
   "id": "f636950a",
   "metadata": {},
   "source": [
    "#### Explanation:\n",
    "+ Used **```.mean()```** method to calculate the avereage **```BasePay```**\n",
    "+ Also used **```round()```** function to limit the output to specific number of decimal points, **2** in this case"
   ]
  },
  {
   "cell_type": "markdown",
   "id": "70e5082c",
   "metadata": {},
   "source": [
    "**#6 What is the highest amount of OvertimePay in the dataset?** (3 points)"
   ]
  },
  {
   "cell_type": "code",
   "execution_count": 6,
   "id": "601ffdab",
   "metadata": {},
   "outputs": [
    {
     "data": {
      "text/plain": [
       "245131.88"
      ]
     },
     "execution_count": 6,
     "metadata": {},
     "output_type": "execute_result"
    }
   ],
   "source": [
    "sal['OvertimePay'].max()"
   ]
  },
  {
   "cell_type": "markdown",
   "id": "7637df93",
   "metadata": {},
   "source": [
    "#### Explanation:\n",
    "+ Used **```.max()```** which is a method that returns the maximum value of a column in a DataFrame or a Series\n"
   ]
  },
  {
   "cell_type": "markdown",
   "id": "e3532feb",
   "metadata": {},
   "source": [
    "**#7 What is the job title of JOSEPH DRISCOLL?** (4 points)"
   ]
  },
  {
   "cell_type": "code",
   "execution_count": 7,
   "id": "41ab49a4",
   "metadata": {},
   "outputs": [
    {
     "data": {
      "text/html": [
       "<div>\n",
       "<style scoped>\n",
       "    .dataframe tbody tr th:only-of-type {\n",
       "        vertical-align: middle;\n",
       "    }\n",
       "\n",
       "    .dataframe tbody tr th {\n",
       "        vertical-align: top;\n",
       "    }\n",
       "\n",
       "    .dataframe thead th {\n",
       "        text-align: right;\n",
       "    }\n",
       "</style>\n",
       "<table border=\"1\" class=\"dataframe\">\n",
       "  <thead>\n",
       "    <tr style=\"text-align: right;\">\n",
       "      <th></th>\n",
       "      <th>JobTitle</th>\n",
       "    </tr>\n",
       "  </thead>\n",
       "  <tbody>\n",
       "    <tr>\n",
       "      <th>24</th>\n",
       "      <td>CAPTAIN, FIRE SUPPRESSION</td>\n",
       "    </tr>\n",
       "  </tbody>\n",
       "</table>\n",
       "</div>"
      ],
      "text/plain": [
       "                     JobTitle\n",
       "24  CAPTAIN, FIRE SUPPRESSION"
      ]
     },
     "execution_count": 7,
     "metadata": {},
     "output_type": "execute_result"
    }
   ],
   "source": [
    "sal.loc[sal['EmployeeName'] == 'JOSEPH DRISCOLL', ['JobTitle']]"
   ]
  },
  {
   "cell_type": "markdown",
   "id": "8edc7b17",
   "metadata": {},
   "source": [
    "#### Explanation:\n",
    "+ The above mentioned code, first locates the row where the **```EmployeeName```** column is equal to **'JOSEPH DRISCOLL'** using the **```.loc[]```** method, and\n",
    "+ then selects the value in the **```JobTitle```** column for that row\n"
   ]
  },
  {
   "cell_type": "markdown",
   "id": "b1c95692",
   "metadata": {},
   "source": [
    "**#8 How much does JOSEPH DRISCOLL make (including benefits)?** (4 points)"
   ]
  },
  {
   "cell_type": "code",
   "execution_count": 8,
   "id": "afc819a1",
   "metadata": {},
   "outputs": [
    {
     "data": {
      "text/html": [
       "<div>\n",
       "<style scoped>\n",
       "    .dataframe tbody tr th:only-of-type {\n",
       "        vertical-align: middle;\n",
       "    }\n",
       "\n",
       "    .dataframe tbody tr th {\n",
       "        vertical-align: top;\n",
       "    }\n",
       "\n",
       "    .dataframe thead th {\n",
       "        text-align: right;\n",
       "    }\n",
       "</style>\n",
       "<table border=\"1\" class=\"dataframe\">\n",
       "  <thead>\n",
       "    <tr style=\"text-align: right;\">\n",
       "      <th></th>\n",
       "      <th>TotalPayBenefits</th>\n",
       "    </tr>\n",
       "  </thead>\n",
       "  <tbody>\n",
       "    <tr>\n",
       "      <th>24</th>\n",
       "      <td>270324.91</td>\n",
       "    </tr>\n",
       "  </tbody>\n",
       "</table>\n",
       "</div>"
      ],
      "text/plain": [
       "    TotalPayBenefits\n",
       "24         270324.91"
      ]
     },
     "execution_count": 8,
     "metadata": {},
     "output_type": "execute_result"
    }
   ],
   "source": [
    "sal.loc[sal['EmployeeName'] == 'JOSEPH DRISCOLL', ['TotalPayBenefits']]"
   ]
  },
  {
   "cell_type": "markdown",
   "id": "a706e7b8",
   "metadata": {},
   "source": [
    "#### Explanation:\n",
    "+ The code for this is similar to the above question, first it locates the row where the **```EmployeeName```** column is equal to **'JOSEPH DRISCOLL'** using the **```.loc[]```** method, and\n",
    "+ Then selects the value in the **```TotalPayBenefits```** column for that row"
   ]
  },
  {
   "cell_type": "markdown",
   "id": "79b3f121",
   "metadata": {},
   "source": [
    "**#9 What is the name of highest paid person (including benefits)?** (3 points)"
   ]
  },
  {
   "cell_type": "code",
   "execution_count": 9,
   "id": "faf350a8",
   "metadata": {},
   "outputs": [
    {
     "data": {
      "text/plain": [
       "'NATHANIEL FORD'"
      ]
     },
     "execution_count": 9,
     "metadata": {},
     "output_type": "execute_result"
    }
   ],
   "source": [
    "sal.sort_values(by='TotalPayBenefits', ascending=False).iloc[0].EmployeeName"
   ]
  },
  {
   "cell_type": "markdown",
   "id": "c9575678",
   "metadata": {},
   "source": [
    "#### Explanation:\n",
    "+ The code first sorts the **sal** dataframe by the **```TotalPayBenefits```** column in descending order using the **```sort_values()```** method. The **ascending=False** argument sorts the output in descending order.\n",
    "+ Then used **```.ilooc[0]```** to get the row with the highest TotalPayBenefits value from sorted **sal**\n",
    "+ Finally, the code selects the employee name from that row using **```.EmployeeName```**"
   ]
  },
  {
   "cell_type": "markdown",
   "id": "acce9c37",
   "metadata": {},
   "source": [
    "**#10 What is the name of lowest paid person (including benefits)? Do you notice something strange about how much he or she is paid?** (5 points)"
   ]
  },
  {
   "cell_type": "code",
   "execution_count": 10,
   "id": "7ba1662e",
   "metadata": {},
   "outputs": [
    {
     "data": {
      "text/plain": [
       "Id                                      148654\n",
       "EmployeeName                         Joe Lopez\n",
       "JobTitle            Counselor, Log Cabin Ranch\n",
       "BasePay                                    0.0\n",
       "OvertimePay                                0.0\n",
       "OtherPay                               -618.13\n",
       "Benefits                                   0.0\n",
       "TotalPay                               -618.13\n",
       "TotalPayBenefits                       -618.13\n",
       "Year                                      2014\n",
       "Notes                                      NaN\n",
       "Agency                           San Francisco\n",
       "Status                                      PT\n",
       "Name: 148649, dtype: object"
      ]
     },
     "execution_count": 10,
     "metadata": {},
     "output_type": "execute_result"
    }
   ],
   "source": [
    "sal.sort_values(by='TotalPayBenefits').iloc[0]"
   ]
  },
  {
   "cell_type": "markdown",
   "id": "62a251b0",
   "metadata": {},
   "source": [
    "#### Written Answer:\n",
    "+ Yes, there is something strange about the amount **Joe Lopez** is paid.\n",
    "+ According to the output, his **```TotalPayBenefits```** is negative, which means he owes the company money instead of receiving a salary. "
   ]
  },
  {
   "cell_type": "markdown",
   "id": "4e463c5b",
   "metadata": {},
   "source": [
    "**#11 What was the average (mean) BasePay of all employees in 2011?** (5 points)"
   ]
  },
  {
   "cell_type": "code",
   "execution_count": 11,
   "id": "917f763e",
   "metadata": {},
   "outputs": [
    {
     "data": {
      "text/plain": [
       "63595.96"
      ]
     },
     "execution_count": 11,
     "metadata": {},
     "output_type": "execute_result"
    }
   ],
   "source": [
    "round(sal[sal['Year'] == 2011]['BasePay'].mean(),2)"
   ]
  },
  {
   "cell_type": "markdown",
   "id": "93da277e",
   "metadata": {},
   "source": [
    "#### Explanation:\n",
    "+ This code first selects only the rows from **sal** where the **```Year```** column is equal to 2011\n",
    "+ Next, the code selects only the **```BasePay```** column from the filtered rows using bracket notation\n",
    "+ Finally, the code uses the **```mean()```** method to calculate the average (mean) of the values in the 'BasePay' column"
   ]
  },
  {
   "cell_type": "markdown",
   "id": "c1e08ffe",
   "metadata": {},
   "source": [
    "**#12 How many unique job titles are there?** (5 points)"
   ]
  },
  {
   "cell_type": "code",
   "execution_count": 12,
   "id": "2cf679dd",
   "metadata": {},
   "outputs": [
    {
     "data": {
      "text/plain": [
       "2158"
      ]
     },
     "execution_count": 12,
     "metadata": {},
     "output_type": "execute_result"
    }
   ],
   "source": [
    "sal['JobTitle'].nunique()"
   ]
  },
  {
   "cell_type": "markdown",
   "id": "da7e5d97",
   "metadata": {},
   "source": [
    "#### Explanation:\n",
    "+ This code selects only the **```JobTitle```** column from **sal** using bracket notation.\n",
    "+ Then, the code uses the **```nunique()```** method to calculate the number of unique job titles in the **JobTitle** column"
   ]
  },
  {
   "cell_type": "markdown",
   "id": "023e794f",
   "metadata": {},
   "source": [
    "**#13 What are the top 5 most common jobs?** (5 points)"
   ]
  },
  {
   "cell_type": "code",
   "execution_count": 13,
   "id": "4c5736c8",
   "metadata": {},
   "outputs": [
    {
     "data": {
      "text/plain": [
       "Transit Operator                7036\n",
       "Special Nurse                   4389\n",
       "Registered Nurse                3736\n",
       "Public Svc Aide-Public Works    2518\n",
       "Police Officer 3                2421\n",
       "Name: JobTitle, dtype: int64"
      ]
     },
     "execution_count": 13,
     "metadata": {},
     "output_type": "execute_result"
    }
   ],
   "source": [
    "sal['JobTitle'].value_counts().head()"
   ]
  },
  {
   "cell_type": "markdown",
   "id": "190703a8",
   "metadata": {},
   "source": [
    "#### Explanation:\n",
    "+ This code selects only the **```JobTitle```** column from **sal** using bracket notation\n",
    "\n",
    "+ Then, the code uses the **```value_counts()```** method to count the number of occurrences of each unique job title in the **JobTitle** column\n",
    "\n",
    "+ Finally, the code uses the **```head()```** method to select only the top 5 most common job titles"
   ]
  },
  {
   "cell_type": "markdown",
   "id": "e45ba805",
   "metadata": {},
   "source": [
    "**#14 How many Job Titles were represented by only one person in 2013? (e.g. Job Titles with only one occurence in 2013?)** (5 points)"
   ]
  },
  {
   "cell_type": "code",
   "execution_count": 14,
   "id": "d1f7457e",
   "metadata": {},
   "outputs": [
    {
     "data": {
      "text/plain": [
       "202"
      ]
     },
     "execution_count": 14,
     "metadata": {},
     "output_type": "execute_result"
    }
   ],
   "source": [
    "sum(sal[sal['Year']==2013]['JobTitle'].value_counts() == 1)"
   ]
  },
  {
   "cell_type": "markdown",
   "id": "98cadb4f",
   "metadata": {},
   "source": [
    "#### Explanation:\n",
    "+ This code first selects only the rows in **sal** where the **```Year```** column is equal to **2013** \n",
    "\n",
    "+ Then, it selects only the **```JobTitle```** column using bracket notation\n",
    "\n",
    "+ Next, it uses the **```value_counts()```** method to count the number of occurrences of each unique job title in the **JobTitle** column and used the comparison operator **==** to check which counts are equal to **1**, and \n",
    "\n",
    "+ Then uses the **```sum()```** function to count the number of True values\n"
   ]
  }
 ],
 "metadata": {
  "kernelspec": {
   "display_name": "Python 3 (ipykernel)",
   "language": "python",
   "name": "python3"
  },
  "language_info": {
   "codemirror_mode": {
    "name": "ipython",
    "version": 3
   },
   "file_extension": ".py",
   "mimetype": "text/x-python",
   "name": "python",
   "nbconvert_exporter": "python",
   "pygments_lexer": "ipython3",
   "version": "3.9.7"
  }
 },
 "nbformat": 4,
 "nbformat_minor": 5
}
